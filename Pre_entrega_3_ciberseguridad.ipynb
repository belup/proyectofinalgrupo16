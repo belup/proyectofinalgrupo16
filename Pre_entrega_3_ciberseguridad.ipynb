{
  "nbformat": 4,
  "nbformat_minor": 0,
  "metadata": {
    "colab": {
      "provenance": [],
      "gpuType": "T4",
      "include_colab_link": true
    },
    "kernelspec": {
      "name": "python3",
      "display_name": "Python 3"
    },
    "language_info": {
      "name": "python"
    }
  },
  "cells": [
    {
      "cell_type": "markdown",
      "metadata": {
        "id": "view-in-github",
        "colab_type": "text"
      },
      "source": [
        "<a href=\"https://colab.research.google.com/github/belup/proyectofinalgrupo17/blob/main/Pre_entrega_3_ciberseguridad.ipynb\" target=\"_parent\"><img src=\"https://colab.research.google.com/assets/colab-badge.svg\" alt=\"Open In Colab\"/></a>"
      ]
    },
    {
      "cell_type": "markdown",
      "source": [
        "PRE ENTREGA 3:\n",
        "\n",
        "CIBERSEGURIDAD.\n",
        "\n",
        "En la pre entrega 2 empezamos a hablar de ciberseguridad y de la importancia de la misma a la hora de detectar los ataques lo mas rapido posible, para no tener pérdidas.\n",
        "\n",
        "En esta ocasión seguimos con el mismo tema pero con otro dataset, en este caso utilizaremos [este dataset.](https://www.kaggle.com/datasets/shakirul09/cyber-crimes-dataset)\n",
        "Nuestro objetivo es ver cuales fueron los países que más ataques tubo y de que tipo, cual fue el horario mas buscado para el ataque y la industria mas afectada.\n",
        "Y por último si el ataque fue exitoso o no."
      ],
      "metadata": {
        "id": "LfKmggs_Se1B"
      }
    },
    {
      "cell_type": "code",
      "source": [
        "#importamos las librerias\n",
        "import numpy as np\n",
        "import matplotlib.pyplot as plt\n",
        "import pandas as pd\n",
        "import seaborn as sns\n",
        "\n"
      ],
      "metadata": {
        "id": "QCGl9RBz5HWF"
      },
      "execution_count": null,
      "outputs": []
    },
    {
      "cell_type": "code",
      "source": [
        "cb= pd.read_csv('//content/cybersecurity_large_synthesized_data.csv')\n",
        " #leemos el dataset"
      ],
      "metadata": {
        "id": "_CfUNs3QouKi"
      },
      "execution_count": null,
      "outputs": []
    },
    {
      "cell_type": "code",
      "source": [
        "cb.head()\n",
        " #revisamos lo que contiene"
      ],
      "metadata": {
        "colab": {
          "base_uri": "https://localhost:8080/",
          "height": 313
        },
        "id": "PuxuT98xpBGy",
        "outputId": "06a0309a-c114-499c-cad7-59a4e48d6984"
      },
      "execution_count": null,
      "outputs": [
        {
          "output_type": "execute_result",
          "data": {
            "text/plain": [
              "        attack_type  target_system  outcome                   timestamp  \\\n",
              "0          Phishing  Cloud Service  Failure  2024-04-03 11:13:15.083419   \n",
              "1              DDoS   Email Server  Success  2024-02-03 20:51:56.083463   \n",
              "2  Zero-Day Exploit  Cloud Service  Success  2024-07-19 18:40:05.083472   \n",
              "3     SQL Injection   Email Server  Failure  2023-12-08 00:54:17.083478   \n",
              "4  Zero-Day Exploit     IoT Device  Failure  2024-07-23 05:38:20.083483   \n",
              "\n",
              "       attacker_ip        target_ip  data_compromised_GB  attack_duration_min  \\\n",
              "0      21.166.79.4      23.20.50.78                15.31                  300   \n",
              "1  187.180.150.169    34.160.58.218                65.05                  242   \n",
              "2   57.161.159.140  213.142.125.206                48.99                  120   \n",
              "3   207.108.16.104     4.104.193.49                16.29                  286   \n",
              "4     98.122.15.31     57.66.53.194                87.66                    4   \n",
              "\n",
              "  security_tools_used      user_role   location  attack_severity    industry  \\\n",
              "0            Firewall       Employee  Australia                2      Energy   \n",
              "1  Endpoint Detection          Admin     Brazil               10      Retail   \n",
              "2            Firewall  External User    Germany                7     Finance   \n",
              "3                 MFA       Employee     Russia                3  Healthcare   \n",
              "4            Firewall     Contractor         UK                6     Finance   \n",
              "\n",
              "   response_time_min  mitigation_method  \n",
              "0                164        Containment  \n",
              "1                 64  Reset Credentials  \n",
              "2                 87         Quarantine  \n",
              "3                 23              Patch  \n",
              "4                129        Containment  "
            ],
            "text/html": [
              "\n",
              "  <div id=\"df-70b38d58-794c-47f5-8a5c-b93e2c4b305f\" class=\"colab-df-container\">\n",
              "    <div>\n",
              "<style scoped>\n",
              "    .dataframe tbody tr th:only-of-type {\n",
              "        vertical-align: middle;\n",
              "    }\n",
              "\n",
              "    .dataframe tbody tr th {\n",
              "        vertical-align: top;\n",
              "    }\n",
              "\n",
              "    .dataframe thead th {\n",
              "        text-align: right;\n",
              "    }\n",
              "</style>\n",
              "<table border=\"1\" class=\"dataframe\">\n",
              "  <thead>\n",
              "    <tr style=\"text-align: right;\">\n",
              "      <th></th>\n",
              "      <th>attack_type</th>\n",
              "      <th>target_system</th>\n",
              "      <th>outcome</th>\n",
              "      <th>timestamp</th>\n",
              "      <th>attacker_ip</th>\n",
              "      <th>target_ip</th>\n",
              "      <th>data_compromised_GB</th>\n",
              "      <th>attack_duration_min</th>\n",
              "      <th>security_tools_used</th>\n",
              "      <th>user_role</th>\n",
              "      <th>location</th>\n",
              "      <th>attack_severity</th>\n",
              "      <th>industry</th>\n",
              "      <th>response_time_min</th>\n",
              "      <th>mitigation_method</th>\n",
              "    </tr>\n",
              "  </thead>\n",
              "  <tbody>\n",
              "    <tr>\n",
              "      <th>0</th>\n",
              "      <td>Phishing</td>\n",
              "      <td>Cloud Service</td>\n",
              "      <td>Failure</td>\n",
              "      <td>2024-04-03 11:13:15.083419</td>\n",
              "      <td>21.166.79.4</td>\n",
              "      <td>23.20.50.78</td>\n",
              "      <td>15.31</td>\n",
              "      <td>300</td>\n",
              "      <td>Firewall</td>\n",
              "      <td>Employee</td>\n",
              "      <td>Australia</td>\n",
              "      <td>2</td>\n",
              "      <td>Energy</td>\n",
              "      <td>164</td>\n",
              "      <td>Containment</td>\n",
              "    </tr>\n",
              "    <tr>\n",
              "      <th>1</th>\n",
              "      <td>DDoS</td>\n",
              "      <td>Email Server</td>\n",
              "      <td>Success</td>\n",
              "      <td>2024-02-03 20:51:56.083463</td>\n",
              "      <td>187.180.150.169</td>\n",
              "      <td>34.160.58.218</td>\n",
              "      <td>65.05</td>\n",
              "      <td>242</td>\n",
              "      <td>Endpoint Detection</td>\n",
              "      <td>Admin</td>\n",
              "      <td>Brazil</td>\n",
              "      <td>10</td>\n",
              "      <td>Retail</td>\n",
              "      <td>64</td>\n",
              "      <td>Reset Credentials</td>\n",
              "    </tr>\n",
              "    <tr>\n",
              "      <th>2</th>\n",
              "      <td>Zero-Day Exploit</td>\n",
              "      <td>Cloud Service</td>\n",
              "      <td>Success</td>\n",
              "      <td>2024-07-19 18:40:05.083472</td>\n",
              "      <td>57.161.159.140</td>\n",
              "      <td>213.142.125.206</td>\n",
              "      <td>48.99</td>\n",
              "      <td>120</td>\n",
              "      <td>Firewall</td>\n",
              "      <td>External User</td>\n",
              "      <td>Germany</td>\n",
              "      <td>7</td>\n",
              "      <td>Finance</td>\n",
              "      <td>87</td>\n",
              "      <td>Quarantine</td>\n",
              "    </tr>\n",
              "    <tr>\n",
              "      <th>3</th>\n",
              "      <td>SQL Injection</td>\n",
              "      <td>Email Server</td>\n",
              "      <td>Failure</td>\n",
              "      <td>2023-12-08 00:54:17.083478</td>\n",
              "      <td>207.108.16.104</td>\n",
              "      <td>4.104.193.49</td>\n",
              "      <td>16.29</td>\n",
              "      <td>286</td>\n",
              "      <td>MFA</td>\n",
              "      <td>Employee</td>\n",
              "      <td>Russia</td>\n",
              "      <td>3</td>\n",
              "      <td>Healthcare</td>\n",
              "      <td>23</td>\n",
              "      <td>Patch</td>\n",
              "    </tr>\n",
              "    <tr>\n",
              "      <th>4</th>\n",
              "      <td>Zero-Day Exploit</td>\n",
              "      <td>IoT Device</td>\n",
              "      <td>Failure</td>\n",
              "      <td>2024-07-23 05:38:20.083483</td>\n",
              "      <td>98.122.15.31</td>\n",
              "      <td>57.66.53.194</td>\n",
              "      <td>87.66</td>\n",
              "      <td>4</td>\n",
              "      <td>Firewall</td>\n",
              "      <td>Contractor</td>\n",
              "      <td>UK</td>\n",
              "      <td>6</td>\n",
              "      <td>Finance</td>\n",
              "      <td>129</td>\n",
              "      <td>Containment</td>\n",
              "    </tr>\n",
              "  </tbody>\n",
              "</table>\n",
              "</div>\n",
              "    <div class=\"colab-df-buttons\">\n",
              "\n",
              "  <div class=\"colab-df-container\">\n",
              "    <button class=\"colab-df-convert\" onclick=\"convertToInteractive('df-70b38d58-794c-47f5-8a5c-b93e2c4b305f')\"\n",
              "            title=\"Convert this dataframe to an interactive table.\"\n",
              "            style=\"display:none;\">\n",
              "\n",
              "  <svg xmlns=\"http://www.w3.org/2000/svg\" height=\"24px\" viewBox=\"0 -960 960 960\">\n",
              "    <path d=\"M120-120v-720h720v720H120Zm60-500h600v-160H180v160Zm220 220h160v-160H400v160Zm0 220h160v-160H400v160ZM180-400h160v-160H180v160Zm440 0h160v-160H620v160ZM180-180h160v-160H180v160Zm440 0h160v-160H620v160Z\"/>\n",
              "  </svg>\n",
              "    </button>\n",
              "\n",
              "  <style>\n",
              "    .colab-df-container {\n",
              "      display:flex;\n",
              "      gap: 12px;\n",
              "    }\n",
              "\n",
              "    .colab-df-convert {\n",
              "      background-color: #E8F0FE;\n",
              "      border: none;\n",
              "      border-radius: 50%;\n",
              "      cursor: pointer;\n",
              "      display: none;\n",
              "      fill: #1967D2;\n",
              "      height: 32px;\n",
              "      padding: 0 0 0 0;\n",
              "      width: 32px;\n",
              "    }\n",
              "\n",
              "    .colab-df-convert:hover {\n",
              "      background-color: #E2EBFA;\n",
              "      box-shadow: 0px 1px 2px rgba(60, 64, 67, 0.3), 0px 1px 3px 1px rgba(60, 64, 67, 0.15);\n",
              "      fill: #174EA6;\n",
              "    }\n",
              "\n",
              "    .colab-df-buttons div {\n",
              "      margin-bottom: 4px;\n",
              "    }\n",
              "\n",
              "    [theme=dark] .colab-df-convert {\n",
              "      background-color: #3B4455;\n",
              "      fill: #D2E3FC;\n",
              "    }\n",
              "\n",
              "    [theme=dark] .colab-df-convert:hover {\n",
              "      background-color: #434B5C;\n",
              "      box-shadow: 0px 1px 3px 1px rgba(0, 0, 0, 0.15);\n",
              "      filter: drop-shadow(0px 1px 2px rgba(0, 0, 0, 0.3));\n",
              "      fill: #FFFFFF;\n",
              "    }\n",
              "  </style>\n",
              "\n",
              "    <script>\n",
              "      const buttonEl =\n",
              "        document.querySelector('#df-70b38d58-794c-47f5-8a5c-b93e2c4b305f button.colab-df-convert');\n",
              "      buttonEl.style.display =\n",
              "        google.colab.kernel.accessAllowed ? 'block' : 'none';\n",
              "\n",
              "      async function convertToInteractive(key) {\n",
              "        const element = document.querySelector('#df-70b38d58-794c-47f5-8a5c-b93e2c4b305f');\n",
              "        const dataTable =\n",
              "          await google.colab.kernel.invokeFunction('convertToInteractive',\n",
              "                                                    [key], {});\n",
              "        if (!dataTable) return;\n",
              "\n",
              "        const docLinkHtml = 'Like what you see? Visit the ' +\n",
              "          '<a target=\"_blank\" href=https://colab.research.google.com/notebooks/data_table.ipynb>data table notebook</a>'\n",
              "          + ' to learn more about interactive tables.';\n",
              "        element.innerHTML = '';\n",
              "        dataTable['output_type'] = 'display_data';\n",
              "        await google.colab.output.renderOutput(dataTable, element);\n",
              "        const docLink = document.createElement('div');\n",
              "        docLink.innerHTML = docLinkHtml;\n",
              "        element.appendChild(docLink);\n",
              "      }\n",
              "    </script>\n",
              "  </div>\n",
              "\n",
              "\n",
              "    <div id=\"df-60946e0d-1381-4b60-aeee-7a47d9918cdd\">\n",
              "      <button class=\"colab-df-quickchart\" onclick=\"quickchart('df-60946e0d-1381-4b60-aeee-7a47d9918cdd')\"\n",
              "                title=\"Suggest charts\"\n",
              "                style=\"display:none;\">\n",
              "\n",
              "<svg xmlns=\"http://www.w3.org/2000/svg\" height=\"24px\"viewBox=\"0 0 24 24\"\n",
              "     width=\"24px\">\n",
              "    <g>\n",
              "        <path d=\"M19 3H5c-1.1 0-2 .9-2 2v14c0 1.1.9 2 2 2h14c1.1 0 2-.9 2-2V5c0-1.1-.9-2-2-2zM9 17H7v-7h2v7zm4 0h-2V7h2v10zm4 0h-2v-4h2v4z\"/>\n",
              "    </g>\n",
              "</svg>\n",
              "      </button>\n",
              "\n",
              "<style>\n",
              "  .colab-df-quickchart {\n",
              "      --bg-color: #E8F0FE;\n",
              "      --fill-color: #1967D2;\n",
              "      --hover-bg-color: #E2EBFA;\n",
              "      --hover-fill-color: #174EA6;\n",
              "      --disabled-fill-color: #AAA;\n",
              "      --disabled-bg-color: #DDD;\n",
              "  }\n",
              "\n",
              "  [theme=dark] .colab-df-quickchart {\n",
              "      --bg-color: #3B4455;\n",
              "      --fill-color: #D2E3FC;\n",
              "      --hover-bg-color: #434B5C;\n",
              "      --hover-fill-color: #FFFFFF;\n",
              "      --disabled-bg-color: #3B4455;\n",
              "      --disabled-fill-color: #666;\n",
              "  }\n",
              "\n",
              "  .colab-df-quickchart {\n",
              "    background-color: var(--bg-color);\n",
              "    border: none;\n",
              "    border-radius: 50%;\n",
              "    cursor: pointer;\n",
              "    display: none;\n",
              "    fill: var(--fill-color);\n",
              "    height: 32px;\n",
              "    padding: 0;\n",
              "    width: 32px;\n",
              "  }\n",
              "\n",
              "  .colab-df-quickchart:hover {\n",
              "    background-color: var(--hover-bg-color);\n",
              "    box-shadow: 0 1px 2px rgba(60, 64, 67, 0.3), 0 1px 3px 1px rgba(60, 64, 67, 0.15);\n",
              "    fill: var(--button-hover-fill-color);\n",
              "  }\n",
              "\n",
              "  .colab-df-quickchart-complete:disabled,\n",
              "  .colab-df-quickchart-complete:disabled:hover {\n",
              "    background-color: var(--disabled-bg-color);\n",
              "    fill: var(--disabled-fill-color);\n",
              "    box-shadow: none;\n",
              "  }\n",
              "\n",
              "  .colab-df-spinner {\n",
              "    border: 2px solid var(--fill-color);\n",
              "    border-color: transparent;\n",
              "    border-bottom-color: var(--fill-color);\n",
              "    animation:\n",
              "      spin 1s steps(1) infinite;\n",
              "  }\n",
              "\n",
              "  @keyframes spin {\n",
              "    0% {\n",
              "      border-color: transparent;\n",
              "      border-bottom-color: var(--fill-color);\n",
              "      border-left-color: var(--fill-color);\n",
              "    }\n",
              "    20% {\n",
              "      border-color: transparent;\n",
              "      border-left-color: var(--fill-color);\n",
              "      border-top-color: var(--fill-color);\n",
              "    }\n",
              "    30% {\n",
              "      border-color: transparent;\n",
              "      border-left-color: var(--fill-color);\n",
              "      border-top-color: var(--fill-color);\n",
              "      border-right-color: var(--fill-color);\n",
              "    }\n",
              "    40% {\n",
              "      border-color: transparent;\n",
              "      border-right-color: var(--fill-color);\n",
              "      border-top-color: var(--fill-color);\n",
              "    }\n",
              "    60% {\n",
              "      border-color: transparent;\n",
              "      border-right-color: var(--fill-color);\n",
              "    }\n",
              "    80% {\n",
              "      border-color: transparent;\n",
              "      border-right-color: var(--fill-color);\n",
              "      border-bottom-color: var(--fill-color);\n",
              "    }\n",
              "    90% {\n",
              "      border-color: transparent;\n",
              "      border-bottom-color: var(--fill-color);\n",
              "    }\n",
              "  }\n",
              "</style>\n",
              "\n",
              "      <script>\n",
              "        async function quickchart(key) {\n",
              "          const quickchartButtonEl =\n",
              "            document.querySelector('#' + key + ' button');\n",
              "          quickchartButtonEl.disabled = true;  // To prevent multiple clicks.\n",
              "          quickchartButtonEl.classList.add('colab-df-spinner');\n",
              "          try {\n",
              "            const charts = await google.colab.kernel.invokeFunction(\n",
              "                'suggestCharts', [key], {});\n",
              "          } catch (error) {\n",
              "            console.error('Error during call to suggestCharts:', error);\n",
              "          }\n",
              "          quickchartButtonEl.classList.remove('colab-df-spinner');\n",
              "          quickchartButtonEl.classList.add('colab-df-quickchart-complete');\n",
              "        }\n",
              "        (() => {\n",
              "          let quickchartButtonEl =\n",
              "            document.querySelector('#df-60946e0d-1381-4b60-aeee-7a47d9918cdd button');\n",
              "          quickchartButtonEl.style.display =\n",
              "            google.colab.kernel.accessAllowed ? 'block' : 'none';\n",
              "        })();\n",
              "      </script>\n",
              "    </div>\n",
              "\n",
              "    </div>\n",
              "  </div>\n"
            ],
            "application/vnd.google.colaboratory.intrinsic+json": {
              "type": "dataframe",
              "summary": "{\n  \"name\": \" #revisamos lo que contiene\",\n  \"rows\": 5,\n  \"fields\": [\n    {\n      \"column\": \"attack_type\",\n      \"properties\": {\n        \"dtype\": \"string\",\n        \"num_unique_values\": 4,\n        \"samples\": [\n          \"DDoS\",\n          \"SQL Injection\",\n          \"Phishing\"\n        ],\n        \"semantic_type\": \"\",\n        \"description\": \"\"\n      }\n    },\n    {\n      \"column\": \"target_system\",\n      \"properties\": {\n        \"dtype\": \"string\",\n        \"num_unique_values\": 3,\n        \"samples\": [\n          \"Cloud Service\",\n          \"Email Server\",\n          \"IoT Device\"\n        ],\n        \"semantic_type\": \"\",\n        \"description\": \"\"\n      }\n    },\n    {\n      \"column\": \"outcome\",\n      \"properties\": {\n        \"dtype\": \"category\",\n        \"num_unique_values\": 2,\n        \"samples\": [\n          \"Success\",\n          \"Failure\"\n        ],\n        \"semantic_type\": \"\",\n        \"description\": \"\"\n      }\n    },\n    {\n      \"column\": \"timestamp\",\n      \"properties\": {\n        \"dtype\": \"object\",\n        \"num_unique_values\": 5,\n        \"samples\": [\n          \"2024-02-03 20:51:56.083463\",\n          \"2024-07-23 05:38:20.083483\"\n        ],\n        \"semantic_type\": \"\",\n        \"description\": \"\"\n      }\n    },\n    {\n      \"column\": \"attacker_ip\",\n      \"properties\": {\n        \"dtype\": \"string\",\n        \"num_unique_values\": 5,\n        \"samples\": [\n          \"187.180.150.169\",\n          \"98.122.15.31\"\n        ],\n        \"semantic_type\": \"\",\n        \"description\": \"\"\n      }\n    },\n    {\n      \"column\": \"target_ip\",\n      \"properties\": {\n        \"dtype\": \"string\",\n        \"num_unique_values\": 5,\n        \"samples\": [\n          \"34.160.58.218\",\n          \"57.66.53.194\"\n        ],\n        \"semantic_type\": \"\",\n        \"description\": \"\"\n      }\n    },\n    {\n      \"column\": \"data_compromised_GB\",\n      \"properties\": {\n        \"dtype\": \"number\",\n        \"std\": 31.343980283301608,\n        \"min\": 15.31,\n        \"max\": 87.66,\n        \"num_unique_values\": 5,\n        \"samples\": [\n          65.05,\n          87.66\n        ],\n        \"semantic_type\": \"\",\n        \"description\": \"\"\n      }\n    },\n    {\n      \"column\": \"attack_duration_min\",\n      \"properties\": {\n        \"dtype\": \"number\",\n        \"std\": 126,\n        \"min\": 4,\n        \"max\": 300,\n        \"num_unique_values\": 5,\n        \"samples\": [\n          242,\n          4\n        ],\n        \"semantic_type\": \"\",\n        \"description\": \"\"\n      }\n    },\n    {\n      \"column\": \"security_tools_used\",\n      \"properties\": {\n        \"dtype\": \"string\",\n        \"num_unique_values\": 3,\n        \"samples\": [\n          \"Firewall\",\n          \"Endpoint Detection\"\n        ],\n        \"semantic_type\": \"\",\n        \"description\": \"\"\n      }\n    },\n    {\n      \"column\": \"user_role\",\n      \"properties\": {\n        \"dtype\": \"string\",\n        \"num_unique_values\": 4,\n        \"samples\": [\n          \"Admin\",\n          \"Contractor\"\n        ],\n        \"semantic_type\": \"\",\n        \"description\": \"\"\n      }\n    },\n    {\n      \"column\": \"location\",\n      \"properties\": {\n        \"dtype\": \"string\",\n        \"num_unique_values\": 5,\n        \"samples\": [\n          \"Brazil\",\n          \"UK\"\n        ],\n        \"semantic_type\": \"\",\n        \"description\": \"\"\n      }\n    },\n    {\n      \"column\": \"attack_severity\",\n      \"properties\": {\n        \"dtype\": \"number\",\n        \"std\": 3,\n        \"min\": 2,\n        \"max\": 10,\n        \"num_unique_values\": 5,\n        \"samples\": [\n          10,\n          6\n        ],\n        \"semantic_type\": \"\",\n        \"description\": \"\"\n      }\n    },\n    {\n      \"column\": \"industry\",\n      \"properties\": {\n        \"dtype\": \"string\",\n        \"num_unique_values\": 4,\n        \"samples\": [\n          \"Retail\",\n          \"Healthcare\"\n        ],\n        \"semantic_type\": \"\",\n        \"description\": \"\"\n      }\n    },\n    {\n      \"column\": \"response_time_min\",\n      \"properties\": {\n        \"dtype\": \"number\",\n        \"std\": 55,\n        \"min\": 23,\n        \"max\": 164,\n        \"num_unique_values\": 5,\n        \"samples\": [\n          64,\n          129\n        ],\n        \"semantic_type\": \"\",\n        \"description\": \"\"\n      }\n    },\n    {\n      \"column\": \"mitigation_method\",\n      \"properties\": {\n        \"dtype\": \"string\",\n        \"num_unique_values\": 4,\n        \"samples\": [\n          \"Reset Credentials\",\n          \"Patch\"\n        ],\n        \"semantic_type\": \"\",\n        \"description\": \"\"\n      }\n    }\n  ]\n}"
            }
          },
          "metadata": {},
          "execution_count": 39
        }
      ]
    },
    {
      "cell_type": "code",
      "source": [
        "cb.shape\n",
        "  #mostramos cuantas features y filas contiene"
      ],
      "metadata": {
        "colab": {
          "base_uri": "https://localhost:8080/"
        },
        "id": "j2gThxuRp-Sv",
        "outputId": "ec92c38d-fea1-4b2d-fefa-41971457ef08"
      },
      "execution_count": null,
      "outputs": [
        {
          "output_type": "execute_result",
          "data": {
            "text/plain": [
              "(100000, 15)"
            ]
          },
          "metadata": {},
          "execution_count": 40
        }
      ]
    },
    {
      "cell_type": "code",
      "source": [
        "cb.columns\n",
        "  #mostramos los nombres"
      ],
      "metadata": {
        "colab": {
          "base_uri": "https://localhost:8080/"
        },
        "id": "PL-1URODqg2e",
        "outputId": "f5d6046a-8699-419c-b19e-948d87f960dd"
      },
      "execution_count": null,
      "outputs": [
        {
          "output_type": "execute_result",
          "data": {
            "text/plain": [
              "Index(['attack_type', 'target_system', 'outcome', 'timestamp', 'attacker_ip',\n",
              "       'target_ip', 'data_compromised_GB', 'attack_duration_min',\n",
              "       'security_tools_used', 'user_role', 'location', 'attack_severity',\n",
              "       'industry', 'response_time_min', 'mitigation_method'],\n",
              "      dtype='object')"
            ]
          },
          "metadata": {},
          "execution_count": 41
        }
      ]
    },
    {
      "cell_type": "code",
      "source": [
        "cb.dtypes\n",
        "  #vemos el tipo de datos"
      ],
      "metadata": {
        "colab": {
          "base_uri": "https://localhost:8080/",
          "height": 554
        },
        "id": "GlJnuCHmUOz0",
        "outputId": "ea725a39-f58f-4e04-8603-773e6684db54"
      },
      "execution_count": null,
      "outputs": [
        {
          "output_type": "execute_result",
          "data": {
            "text/plain": [
              "attack_type             object\n",
              "target_system           object\n",
              "outcome                 object\n",
              "timestamp               object\n",
              "attacker_ip             object\n",
              "target_ip               object\n",
              "data_compromised_GB    float64\n",
              "attack_duration_min      int64\n",
              "security_tools_used     object\n",
              "user_role               object\n",
              "location                object\n",
              "attack_severity          int64\n",
              "industry                object\n",
              "response_time_min        int64\n",
              "mitigation_method       object\n",
              "dtype: object"
            ],
            "text/html": [
              "<div>\n",
              "<style scoped>\n",
              "    .dataframe tbody tr th:only-of-type {\n",
              "        vertical-align: middle;\n",
              "    }\n",
              "\n",
              "    .dataframe tbody tr th {\n",
              "        vertical-align: top;\n",
              "    }\n",
              "\n",
              "    .dataframe thead th {\n",
              "        text-align: right;\n",
              "    }\n",
              "</style>\n",
              "<table border=\"1\" class=\"dataframe\">\n",
              "  <thead>\n",
              "    <tr style=\"text-align: right;\">\n",
              "      <th></th>\n",
              "      <th>0</th>\n",
              "    </tr>\n",
              "  </thead>\n",
              "  <tbody>\n",
              "    <tr>\n",
              "      <th>attack_type</th>\n",
              "      <td>object</td>\n",
              "    </tr>\n",
              "    <tr>\n",
              "      <th>target_system</th>\n",
              "      <td>object</td>\n",
              "    </tr>\n",
              "    <tr>\n",
              "      <th>outcome</th>\n",
              "      <td>object</td>\n",
              "    </tr>\n",
              "    <tr>\n",
              "      <th>timestamp</th>\n",
              "      <td>object</td>\n",
              "    </tr>\n",
              "    <tr>\n",
              "      <th>attacker_ip</th>\n",
              "      <td>object</td>\n",
              "    </tr>\n",
              "    <tr>\n",
              "      <th>target_ip</th>\n",
              "      <td>object</td>\n",
              "    </tr>\n",
              "    <tr>\n",
              "      <th>data_compromised_GB</th>\n",
              "      <td>float64</td>\n",
              "    </tr>\n",
              "    <tr>\n",
              "      <th>attack_duration_min</th>\n",
              "      <td>int64</td>\n",
              "    </tr>\n",
              "    <tr>\n",
              "      <th>security_tools_used</th>\n",
              "      <td>object</td>\n",
              "    </tr>\n",
              "    <tr>\n",
              "      <th>user_role</th>\n",
              "      <td>object</td>\n",
              "    </tr>\n",
              "    <tr>\n",
              "      <th>location</th>\n",
              "      <td>object</td>\n",
              "    </tr>\n",
              "    <tr>\n",
              "      <th>attack_severity</th>\n",
              "      <td>int64</td>\n",
              "    </tr>\n",
              "    <tr>\n",
              "      <th>industry</th>\n",
              "      <td>object</td>\n",
              "    </tr>\n",
              "    <tr>\n",
              "      <th>response_time_min</th>\n",
              "      <td>int64</td>\n",
              "    </tr>\n",
              "    <tr>\n",
              "      <th>mitigation_method</th>\n",
              "      <td>object</td>\n",
              "    </tr>\n",
              "  </tbody>\n",
              "</table>\n",
              "</div><br><label><b>dtype:</b> object</label>"
            ]
          },
          "metadata": {},
          "execution_count": 42
        }
      ]
    },
    {
      "cell_type": "code",
      "source": [
        "cb.isnull().sum()\n",
        "  #vemos los faltantes\n"
      ],
      "metadata": {
        "colab": {
          "base_uri": "https://localhost:8080/",
          "height": 554
        },
        "id": "MEHT7gYjscuE",
        "outputId": "3f032dcc-b6d5-46a5-ec8a-fddc15f56f67"
      },
      "execution_count": null,
      "outputs": [
        {
          "output_type": "execute_result",
          "data": {
            "text/plain": [
              "attack_type            0\n",
              "target_system          0\n",
              "outcome                0\n",
              "timestamp              0\n",
              "attacker_ip            0\n",
              "target_ip              0\n",
              "data_compromised_GB    0\n",
              "attack_duration_min    0\n",
              "security_tools_used    0\n",
              "user_role              0\n",
              "location               0\n",
              "attack_severity        0\n",
              "industry               0\n",
              "response_time_min      0\n",
              "mitigation_method      0\n",
              "dtype: int64"
            ],
            "text/html": [
              "<div>\n",
              "<style scoped>\n",
              "    .dataframe tbody tr th:only-of-type {\n",
              "        vertical-align: middle;\n",
              "    }\n",
              "\n",
              "    .dataframe tbody tr th {\n",
              "        vertical-align: top;\n",
              "    }\n",
              "\n",
              "    .dataframe thead th {\n",
              "        text-align: right;\n",
              "    }\n",
              "</style>\n",
              "<table border=\"1\" class=\"dataframe\">\n",
              "  <thead>\n",
              "    <tr style=\"text-align: right;\">\n",
              "      <th></th>\n",
              "      <th>0</th>\n",
              "    </tr>\n",
              "  </thead>\n",
              "  <tbody>\n",
              "    <tr>\n",
              "      <th>attack_type</th>\n",
              "      <td>0</td>\n",
              "    </tr>\n",
              "    <tr>\n",
              "      <th>target_system</th>\n",
              "      <td>0</td>\n",
              "    </tr>\n",
              "    <tr>\n",
              "      <th>outcome</th>\n",
              "      <td>0</td>\n",
              "    </tr>\n",
              "    <tr>\n",
              "      <th>timestamp</th>\n",
              "      <td>0</td>\n",
              "    </tr>\n",
              "    <tr>\n",
              "      <th>attacker_ip</th>\n",
              "      <td>0</td>\n",
              "    </tr>\n",
              "    <tr>\n",
              "      <th>target_ip</th>\n",
              "      <td>0</td>\n",
              "    </tr>\n",
              "    <tr>\n",
              "      <th>data_compromised_GB</th>\n",
              "      <td>0</td>\n",
              "    </tr>\n",
              "    <tr>\n",
              "      <th>attack_duration_min</th>\n",
              "      <td>0</td>\n",
              "    </tr>\n",
              "    <tr>\n",
              "      <th>security_tools_used</th>\n",
              "      <td>0</td>\n",
              "    </tr>\n",
              "    <tr>\n",
              "      <th>user_role</th>\n",
              "      <td>0</td>\n",
              "    </tr>\n",
              "    <tr>\n",
              "      <th>location</th>\n",
              "      <td>0</td>\n",
              "    </tr>\n",
              "    <tr>\n",
              "      <th>attack_severity</th>\n",
              "      <td>0</td>\n",
              "    </tr>\n",
              "    <tr>\n",
              "      <th>industry</th>\n",
              "      <td>0</td>\n",
              "    </tr>\n",
              "    <tr>\n",
              "      <th>response_time_min</th>\n",
              "      <td>0</td>\n",
              "    </tr>\n",
              "    <tr>\n",
              "      <th>mitigation_method</th>\n",
              "      <td>0</td>\n",
              "    </tr>\n",
              "  </tbody>\n",
              "</table>\n",
              "</div><br><label><b>dtype:</b> int64</label>"
            ]
          },
          "metadata": {},
          "execution_count": 43
        }
      ]
    },
    {
      "cell_type": "markdown",
      "source": [
        "si bien no hay ningun valor faltante, las revisamos por si hay algo raro o faltante que no se ve\n"
      ],
      "metadata": {
        "id": "iDB2lRExXj0p"
      }
    },
    {
      "cell_type": "code",
      "source": [
        "for column in cb.columns:\n",
        "    print(column)\n",
        "    print(cb[column].unique())"
      ],
      "metadata": {
        "id": "lvyD5jumFi37",
        "colab": {
          "base_uri": "https://localhost:8080/"
        },
        "outputId": "1cc3675d-5fa0-4050-dac7-cf63e8ea2f48"
      },
      "execution_count": null,
      "outputs": [
        {
          "output_type": "stream",
          "name": "stdout",
          "text": [
            "attack_type\n",
            "['Phishing' 'DDoS' 'Zero-Day Exploit' 'SQL Injection' 'Malware'\n",
            " 'Ransomware' 'Brute Force' 'Cross-Site Scripting']\n",
            "target_system\n",
            "['Cloud Service' 'Email Server' 'IoT Device' 'User Account'\n",
            " 'Network Switch' 'Web Server' 'Database' 'API']\n",
            "outcome\n",
            "['Failure' 'Success']\n",
            "timestamp\n",
            "['2024-04-03 11:13:15.083419' '2024-02-03 20:51:56.083463'\n",
            " '2024-07-19 18:40:05.083472' ... '2024-07-29 07:53:22.650690'\n",
            " '2024-05-30 11:29:11.650692' '2023-12-27 04:46:54.650695']\n",
            "attacker_ip\n",
            "['21.166.79.4' '187.180.150.169' '57.161.159.140' ... '4.114.70.4'\n",
            " '91.200.147.68' '48.80.20.195']\n",
            "target_ip\n",
            "['23.20.50.78' '34.160.58.218' '213.142.125.206' ... '91.165.90.254'\n",
            " '221.209.161.150' '235.28.180.232']\n",
            "data_compromised_GB\n",
            "[15.31 65.05 48.99 ... 87.28 98.71  2.81]\n",
            "attack_duration_min\n",
            "[300 242 120 286   4 290 171  85 229 102 218 103 296 190  72  73 107 223\n",
            " 235 162 194 152   6 163 130  97  38  93  13 243 244  57 251 165  80   2\n",
            " 183 221 269 185  89 277  94 299 186  39  66 150  44 298 157 153  48 144\n",
            "  82 173 166  74  53 288 227 126  30 149 214 295 136 196  34  41  96  27\n",
            " 234  92  36 168   9 198  31  19 195  69 253 167 156 274  95  60 175  28\n",
            "  79 297 124  67 280 240  83  33 170 147 291 131 241 117  77  70 208 285\n",
            " 211 114 109 259 188 128  17  64 174 266  75  63 141 258 122 178  42 161\n",
            " 267  68 213  15 233  99 192 293 249 210 232   1  88   8  59 236 108 121\n",
            " 176   7 125 146 179  43  46  81 239 205  56  91 158 116 256 207  86  55\n",
            " 148 247 222  50 254 217  35   3 111  29 180 138  58 284 113 159 110 264\n",
            "  65 145 212  61 197 289 292 154  84 203 184  45  78 275  23 225  14 279\n",
            " 271 209 255 268  32 193 115 250 248  12 191 245  10 281 201 261 270 226\n",
            " 252 287 143 169  16 262 132 215 119 177 206 265 228 142 118 224 237  37\n",
            "  47  49  51 129 238   5 135 100  62 105  71 187 230 282  22 257 181 278\n",
            " 155 273  18 112  11 204 137 182  20 294 199 263 104  52  54 133 106 172\n",
            " 140  76 134 127 160 276  21  24 216 219  90 139 200 260 231  98 246 202\n",
            " 164 101 189  87 123  25 283 272  26 151 220  40]\n",
            "security_tools_used\n",
            "['Firewall' 'Endpoint Detection' 'MFA' 'VPN' 'Antivirus' 'WAF' 'SIEM'\n",
            " 'IDS']\n",
            "user_role\n",
            "['Employee' 'Admin' 'External User' 'Contractor']\n",
            "location\n",
            "['Australia' 'Brazil' 'Germany' 'Russia' 'UK' 'France' 'USA' 'Canada'\n",
            " 'China' 'India']\n",
            "attack_severity\n",
            "[ 2 10  7  3  6  5  4  9  8  1]\n",
            "industry\n",
            "['Energy' 'Retail' 'Finance' 'Healthcare' 'Technology' 'Education'\n",
            " 'Manufacturing' 'Government']\n",
            "response_time_min\n",
            "[164  64  87  23 129 160  74 173 144 137 136  38 178 134  57 109  86  58\n",
            " 112 159  75 153 124 166 161  17 180  35  26 155  98  44  12 156   4 177\n",
            "  54  30  27 158  50  88  61  55 149  94 115  60 105 122   5  25  70  16\n",
            "  33 131  29 142 118 176  65  84  85  92 110 100 123  10  51 135 108 168\n",
            "  96  52  78 147 145 172  93  24  37 162  13  82  69 141  41 143  21 127\n",
            " 151   3  59 146 138   6  40  91  28  99 163 116 119  62  71 101  32 150\n",
            "  14  89 174 128  39  77 111 102 148 179 175 104  22  95 140   7  49  46\n",
            " 154 107  81   2 132  90 126  67  53  48  42   9   1  80  34  72  68 117\n",
            "  19 114 139 130  11 152  15 169  36  43  63  31  79  45   8 103 125  20\n",
            " 167  56 121  47  97 113 170  73 106 120  76 133  18 165  66  83 171 157]\n",
            "mitigation_method\n",
            "['Containment' 'Reset Credentials' 'Quarantine' 'Patch' 'Block IP']\n"
          ]
        }
      ]
    },
    {
      "cell_type": "markdown",
      "source": [
        "Revisamos y estan todos los datos\n"
      ],
      "metadata": {
        "id": "SD6WCfCiX0bS"
      }
    },
    {
      "cell_type": "markdown",
      "source": [
        "Vamos a eliminar algunas features que no nos aportan valor a nuestro objetivo, tambien eliminamos las siguientes features: user_role, data_compromised_GB y target_system ya que no nos da la RAM para trabajar."
      ],
      "metadata": {
        "id": "16IMImlRc1uS"
      }
    },
    {
      "cell_type": "code",
      "execution_count": null,
      "metadata": {
        "id": "n26RPfDktrtD"
      },
      "outputs": [],
      "source": [
        "# Elimino aquellas variables que no quiero incluir en el modelo y las guardo en df\n",
        "df = cb.drop(['response_time_min', 'attack_duration_min',\"attacker_ip\",\"target_ip\",\"user_role\",\"target_system\"],\n",
        "                 axis=1)\n"
      ]
    },
    {
      "cell_type": "code",
      "source": [
        "df.head()"
      ],
      "metadata": {
        "colab": {
          "base_uri": "https://localhost:8080/",
          "height": 313
        },
        "id": "10NYsMLedBHq",
        "outputId": "dbdaf04d-055f-403f-f5fc-8c489e619d04"
      },
      "execution_count": null,
      "outputs": [
        {
          "output_type": "execute_result",
          "data": {
            "text/plain": [
              "        attack_type  outcome                   timestamp  data_compromised_GB  \\\n",
              "0          Phishing  Failure  2024-04-03 11:13:15.083419                15.31   \n",
              "1              DDoS  Success  2024-02-03 20:51:56.083463                65.05   \n",
              "2  Zero-Day Exploit  Success  2024-07-19 18:40:05.083472                48.99   \n",
              "3     SQL Injection  Failure  2023-12-08 00:54:17.083478                16.29   \n",
              "4  Zero-Day Exploit  Failure  2024-07-23 05:38:20.083483                87.66   \n",
              "\n",
              "  security_tools_used   location  attack_severity    industry  \\\n",
              "0            Firewall  Australia                2      Energy   \n",
              "1  Endpoint Detection     Brazil               10      Retail   \n",
              "2            Firewall    Germany                7     Finance   \n",
              "3                 MFA     Russia                3  Healthcare   \n",
              "4            Firewall         UK                6     Finance   \n",
              "\n",
              "   mitigation_method  \n",
              "0        Containment  \n",
              "1  Reset Credentials  \n",
              "2         Quarantine  \n",
              "3              Patch  \n",
              "4        Containment  "
            ],
            "text/html": [
              "\n",
              "  <div id=\"df-6be8b481-6017-4d24-b88a-f81ce299086e\" class=\"colab-df-container\">\n",
              "    <div>\n",
              "<style scoped>\n",
              "    .dataframe tbody tr th:only-of-type {\n",
              "        vertical-align: middle;\n",
              "    }\n",
              "\n",
              "    .dataframe tbody tr th {\n",
              "        vertical-align: top;\n",
              "    }\n",
              "\n",
              "    .dataframe thead th {\n",
              "        text-align: right;\n",
              "    }\n",
              "</style>\n",
              "<table border=\"1\" class=\"dataframe\">\n",
              "  <thead>\n",
              "    <tr style=\"text-align: right;\">\n",
              "      <th></th>\n",
              "      <th>attack_type</th>\n",
              "      <th>outcome</th>\n",
              "      <th>timestamp</th>\n",
              "      <th>data_compromised_GB</th>\n",
              "      <th>security_tools_used</th>\n",
              "      <th>location</th>\n",
              "      <th>attack_severity</th>\n",
              "      <th>industry</th>\n",
              "      <th>mitigation_method</th>\n",
              "    </tr>\n",
              "  </thead>\n",
              "  <tbody>\n",
              "    <tr>\n",
              "      <th>0</th>\n",
              "      <td>Phishing</td>\n",
              "      <td>Failure</td>\n",
              "      <td>2024-04-03 11:13:15.083419</td>\n",
              "      <td>15.31</td>\n",
              "      <td>Firewall</td>\n",
              "      <td>Australia</td>\n",
              "      <td>2</td>\n",
              "      <td>Energy</td>\n",
              "      <td>Containment</td>\n",
              "    </tr>\n",
              "    <tr>\n",
              "      <th>1</th>\n",
              "      <td>DDoS</td>\n",
              "      <td>Success</td>\n",
              "      <td>2024-02-03 20:51:56.083463</td>\n",
              "      <td>65.05</td>\n",
              "      <td>Endpoint Detection</td>\n",
              "      <td>Brazil</td>\n",
              "      <td>10</td>\n",
              "      <td>Retail</td>\n",
              "      <td>Reset Credentials</td>\n",
              "    </tr>\n",
              "    <tr>\n",
              "      <th>2</th>\n",
              "      <td>Zero-Day Exploit</td>\n",
              "      <td>Success</td>\n",
              "      <td>2024-07-19 18:40:05.083472</td>\n",
              "      <td>48.99</td>\n",
              "      <td>Firewall</td>\n",
              "      <td>Germany</td>\n",
              "      <td>7</td>\n",
              "      <td>Finance</td>\n",
              "      <td>Quarantine</td>\n",
              "    </tr>\n",
              "    <tr>\n",
              "      <th>3</th>\n",
              "      <td>SQL Injection</td>\n",
              "      <td>Failure</td>\n",
              "      <td>2023-12-08 00:54:17.083478</td>\n",
              "      <td>16.29</td>\n",
              "      <td>MFA</td>\n",
              "      <td>Russia</td>\n",
              "      <td>3</td>\n",
              "      <td>Healthcare</td>\n",
              "      <td>Patch</td>\n",
              "    </tr>\n",
              "    <tr>\n",
              "      <th>4</th>\n",
              "      <td>Zero-Day Exploit</td>\n",
              "      <td>Failure</td>\n",
              "      <td>2024-07-23 05:38:20.083483</td>\n",
              "      <td>87.66</td>\n",
              "      <td>Firewall</td>\n",
              "      <td>UK</td>\n",
              "      <td>6</td>\n",
              "      <td>Finance</td>\n",
              "      <td>Containment</td>\n",
              "    </tr>\n",
              "  </tbody>\n",
              "</table>\n",
              "</div>\n",
              "    <div class=\"colab-df-buttons\">\n",
              "\n",
              "  <div class=\"colab-df-container\">\n",
              "    <button class=\"colab-df-convert\" onclick=\"convertToInteractive('df-6be8b481-6017-4d24-b88a-f81ce299086e')\"\n",
              "            title=\"Convert this dataframe to an interactive table.\"\n",
              "            style=\"display:none;\">\n",
              "\n",
              "  <svg xmlns=\"http://www.w3.org/2000/svg\" height=\"24px\" viewBox=\"0 -960 960 960\">\n",
              "    <path d=\"M120-120v-720h720v720H120Zm60-500h600v-160H180v160Zm220 220h160v-160H400v160Zm0 220h160v-160H400v160ZM180-400h160v-160H180v160Zm440 0h160v-160H620v160ZM180-180h160v-160H180v160Zm440 0h160v-160H620v160Z\"/>\n",
              "  </svg>\n",
              "    </button>\n",
              "\n",
              "  <style>\n",
              "    .colab-df-container {\n",
              "      display:flex;\n",
              "      gap: 12px;\n",
              "    }\n",
              "\n",
              "    .colab-df-convert {\n",
              "      background-color: #E8F0FE;\n",
              "      border: none;\n",
              "      border-radius: 50%;\n",
              "      cursor: pointer;\n",
              "      display: none;\n",
              "      fill: #1967D2;\n",
              "      height: 32px;\n",
              "      padding: 0 0 0 0;\n",
              "      width: 32px;\n",
              "    }\n",
              "\n",
              "    .colab-df-convert:hover {\n",
              "      background-color: #E2EBFA;\n",
              "      box-shadow: 0px 1px 2px rgba(60, 64, 67, 0.3), 0px 1px 3px 1px rgba(60, 64, 67, 0.15);\n",
              "      fill: #174EA6;\n",
              "    }\n",
              "\n",
              "    .colab-df-buttons div {\n",
              "      margin-bottom: 4px;\n",
              "    }\n",
              "\n",
              "    [theme=dark] .colab-df-convert {\n",
              "      background-color: #3B4455;\n",
              "      fill: #D2E3FC;\n",
              "    }\n",
              "\n",
              "    [theme=dark] .colab-df-convert:hover {\n",
              "      background-color: #434B5C;\n",
              "      box-shadow: 0px 1px 3px 1px rgba(0, 0, 0, 0.15);\n",
              "      filter: drop-shadow(0px 1px 2px rgba(0, 0, 0, 0.3));\n",
              "      fill: #FFFFFF;\n",
              "    }\n",
              "  </style>\n",
              "\n",
              "    <script>\n",
              "      const buttonEl =\n",
              "        document.querySelector('#df-6be8b481-6017-4d24-b88a-f81ce299086e button.colab-df-convert');\n",
              "      buttonEl.style.display =\n",
              "        google.colab.kernel.accessAllowed ? 'block' : 'none';\n",
              "\n",
              "      async function convertToInteractive(key) {\n",
              "        const element = document.querySelector('#df-6be8b481-6017-4d24-b88a-f81ce299086e');\n",
              "        const dataTable =\n",
              "          await google.colab.kernel.invokeFunction('convertToInteractive',\n",
              "                                                    [key], {});\n",
              "        if (!dataTable) return;\n",
              "\n",
              "        const docLinkHtml = 'Like what you see? Visit the ' +\n",
              "          '<a target=\"_blank\" href=https://colab.research.google.com/notebooks/data_table.ipynb>data table notebook</a>'\n",
              "          + ' to learn more about interactive tables.';\n",
              "        element.innerHTML = '';\n",
              "        dataTable['output_type'] = 'display_data';\n",
              "        await google.colab.output.renderOutput(dataTable, element);\n",
              "        const docLink = document.createElement('div');\n",
              "        docLink.innerHTML = docLinkHtml;\n",
              "        element.appendChild(docLink);\n",
              "      }\n",
              "    </script>\n",
              "  </div>\n",
              "\n",
              "\n",
              "    <div id=\"df-aaa9ee3a-1b63-4853-aaef-cea7c95afa41\">\n",
              "      <button class=\"colab-df-quickchart\" onclick=\"quickchart('df-aaa9ee3a-1b63-4853-aaef-cea7c95afa41')\"\n",
              "                title=\"Suggest charts\"\n",
              "                style=\"display:none;\">\n",
              "\n",
              "<svg xmlns=\"http://www.w3.org/2000/svg\" height=\"24px\"viewBox=\"0 0 24 24\"\n",
              "     width=\"24px\">\n",
              "    <g>\n",
              "        <path d=\"M19 3H5c-1.1 0-2 .9-2 2v14c0 1.1.9 2 2 2h14c1.1 0 2-.9 2-2V5c0-1.1-.9-2-2-2zM9 17H7v-7h2v7zm4 0h-2V7h2v10zm4 0h-2v-4h2v4z\"/>\n",
              "    </g>\n",
              "</svg>\n",
              "      </button>\n",
              "\n",
              "<style>\n",
              "  .colab-df-quickchart {\n",
              "      --bg-color: #E8F0FE;\n",
              "      --fill-color: #1967D2;\n",
              "      --hover-bg-color: #E2EBFA;\n",
              "      --hover-fill-color: #174EA6;\n",
              "      --disabled-fill-color: #AAA;\n",
              "      --disabled-bg-color: #DDD;\n",
              "  }\n",
              "\n",
              "  [theme=dark] .colab-df-quickchart {\n",
              "      --bg-color: #3B4455;\n",
              "      --fill-color: #D2E3FC;\n",
              "      --hover-bg-color: #434B5C;\n",
              "      --hover-fill-color: #FFFFFF;\n",
              "      --disabled-bg-color: #3B4455;\n",
              "      --disabled-fill-color: #666;\n",
              "  }\n",
              "\n",
              "  .colab-df-quickchart {\n",
              "    background-color: var(--bg-color);\n",
              "    border: none;\n",
              "    border-radius: 50%;\n",
              "    cursor: pointer;\n",
              "    display: none;\n",
              "    fill: var(--fill-color);\n",
              "    height: 32px;\n",
              "    padding: 0;\n",
              "    width: 32px;\n",
              "  }\n",
              "\n",
              "  .colab-df-quickchart:hover {\n",
              "    background-color: var(--hover-bg-color);\n",
              "    box-shadow: 0 1px 2px rgba(60, 64, 67, 0.3), 0 1px 3px 1px rgba(60, 64, 67, 0.15);\n",
              "    fill: var(--button-hover-fill-color);\n",
              "  }\n",
              "\n",
              "  .colab-df-quickchart-complete:disabled,\n",
              "  .colab-df-quickchart-complete:disabled:hover {\n",
              "    background-color: var(--disabled-bg-color);\n",
              "    fill: var(--disabled-fill-color);\n",
              "    box-shadow: none;\n",
              "  }\n",
              "\n",
              "  .colab-df-spinner {\n",
              "    border: 2px solid var(--fill-color);\n",
              "    border-color: transparent;\n",
              "    border-bottom-color: var(--fill-color);\n",
              "    animation:\n",
              "      spin 1s steps(1) infinite;\n",
              "  }\n",
              "\n",
              "  @keyframes spin {\n",
              "    0% {\n",
              "      border-color: transparent;\n",
              "      border-bottom-color: var(--fill-color);\n",
              "      border-left-color: var(--fill-color);\n",
              "    }\n",
              "    20% {\n",
              "      border-color: transparent;\n",
              "      border-left-color: var(--fill-color);\n",
              "      border-top-color: var(--fill-color);\n",
              "    }\n",
              "    30% {\n",
              "      border-color: transparent;\n",
              "      border-left-color: var(--fill-color);\n",
              "      border-top-color: var(--fill-color);\n",
              "      border-right-color: var(--fill-color);\n",
              "    }\n",
              "    40% {\n",
              "      border-color: transparent;\n",
              "      border-right-color: var(--fill-color);\n",
              "      border-top-color: var(--fill-color);\n",
              "    }\n",
              "    60% {\n",
              "      border-color: transparent;\n",
              "      border-right-color: var(--fill-color);\n",
              "    }\n",
              "    80% {\n",
              "      border-color: transparent;\n",
              "      border-right-color: var(--fill-color);\n",
              "      border-bottom-color: var(--fill-color);\n",
              "    }\n",
              "    90% {\n",
              "      border-color: transparent;\n",
              "      border-bottom-color: var(--fill-color);\n",
              "    }\n",
              "  }\n",
              "</style>\n",
              "\n",
              "      <script>\n",
              "        async function quickchart(key) {\n",
              "          const quickchartButtonEl =\n",
              "            document.querySelector('#' + key + ' button');\n",
              "          quickchartButtonEl.disabled = true;  // To prevent multiple clicks.\n",
              "          quickchartButtonEl.classList.add('colab-df-spinner');\n",
              "          try {\n",
              "            const charts = await google.colab.kernel.invokeFunction(\n",
              "                'suggestCharts', [key], {});\n",
              "          } catch (error) {\n",
              "            console.error('Error during call to suggestCharts:', error);\n",
              "          }\n",
              "          quickchartButtonEl.classList.remove('colab-df-spinner');\n",
              "          quickchartButtonEl.classList.add('colab-df-quickchart-complete');\n",
              "        }\n",
              "        (() => {\n",
              "          let quickchartButtonEl =\n",
              "            document.querySelector('#df-aaa9ee3a-1b63-4853-aaef-cea7c95afa41 button');\n",
              "          quickchartButtonEl.style.display =\n",
              "            google.colab.kernel.accessAllowed ? 'block' : 'none';\n",
              "        })();\n",
              "      </script>\n",
              "    </div>\n",
              "\n",
              "    </div>\n",
              "  </div>\n"
            ],
            "application/vnd.google.colaboratory.intrinsic+json": {
              "type": "dataframe",
              "variable_name": "df",
              "summary": "{\n  \"name\": \"df\",\n  \"rows\": 100000,\n  \"fields\": [\n    {\n      \"column\": \"attack_type\",\n      \"properties\": {\n        \"dtype\": \"category\",\n        \"num_unique_values\": 8,\n        \"samples\": [\n          \"DDoS\",\n          \"Ransomware\",\n          \"Phishing\"\n        ],\n        \"semantic_type\": \"\",\n        \"description\": \"\"\n      }\n    },\n    {\n      \"column\": \"outcome\",\n      \"properties\": {\n        \"dtype\": \"category\",\n        \"num_unique_values\": 2,\n        \"samples\": [\n          \"Success\",\n          \"Failure\"\n        ],\n        \"semantic_type\": \"\",\n        \"description\": \"\"\n      }\n    },\n    {\n      \"column\": \"timestamp\",\n      \"properties\": {\n        \"dtype\": \"object\",\n        \"num_unique_values\": 100000,\n        \"samples\": [\n          \"2023-11-10 23:27:13.498383\",\n          \"2024-03-08 06:48:58.525438\"\n        ],\n        \"semantic_type\": \"\",\n        \"description\": \"\"\n      }\n    },\n    {\n      \"column\": \"data_compromised_GB\",\n      \"properties\": {\n        \"dtype\": \"number\",\n        \"std\": 28.829755825689677,\n        \"min\": 0.0,\n        \"max\": 100.0,\n        \"num_unique_values\": 10001,\n        \"samples\": [\n          11.36,\n          58.29\n        ],\n        \"semantic_type\": \"\",\n        \"description\": \"\"\n      }\n    },\n    {\n      \"column\": \"security_tools_used\",\n      \"properties\": {\n        \"dtype\": \"category\",\n        \"num_unique_values\": 8,\n        \"samples\": [\n          \"Endpoint Detection\",\n          \"WAF\"\n        ],\n        \"semantic_type\": \"\",\n        \"description\": \"\"\n      }\n    },\n    {\n      \"column\": \"location\",\n      \"properties\": {\n        \"dtype\": \"category\",\n        \"num_unique_values\": 10,\n        \"samples\": [\n          \"China\",\n          \"Brazil\"\n        ],\n        \"semantic_type\": \"\",\n        \"description\": \"\"\n      }\n    },\n    {\n      \"column\": \"attack_severity\",\n      \"properties\": {\n        \"dtype\": \"number\",\n        \"std\": 2,\n        \"min\": 1,\n        \"max\": 10,\n        \"num_unique_values\": 10,\n        \"samples\": [\n          8,\n          10\n        ],\n        \"semantic_type\": \"\",\n        \"description\": \"\"\n      }\n    },\n    {\n      \"column\": \"industry\",\n      \"properties\": {\n        \"dtype\": \"category\",\n        \"num_unique_values\": 8,\n        \"samples\": [\n          \"Retail\",\n          \"Education\"\n        ],\n        \"semantic_type\": \"\",\n        \"description\": \"\"\n      }\n    },\n    {\n      \"column\": \"mitigation_method\",\n      \"properties\": {\n        \"dtype\": \"category\",\n        \"num_unique_values\": 5,\n        \"samples\": [\n          \"Reset Credentials\",\n          \"Block IP\"\n        ],\n        \"semantic_type\": \"\",\n        \"description\": \"\"\n      }\n    }\n  ]\n}"
            }
          },
          "metadata": {},
          "execution_count": 46
        }
      ]
    },
    {
      "cell_type": "code",
      "source": [
        "df['timestamp'] = pd.to_datetime(cb['timestamp']) #convierto a tipo datetime\n",
        "#separo fecha y hora\n",
        "df['fecha'] = df['timestamp'].dt.year\n",
        "df['hora'] = df['timestamp'].dt.hour\n",
        "print(df)\n"
      ],
      "metadata": {
        "colab": {
          "base_uri": "https://localhost:8080/"
        },
        "id": "P65NQpKHAQg9",
        "outputId": "96c83e28-7957-45b5-90db-01b4816eeab7"
      },
      "execution_count": null,
      "outputs": [
        {
          "output_type": "stream",
          "name": "stdout",
          "text": [
            "            attack_type  outcome                  timestamp  \\\n",
            "0              Phishing  Failure 2024-04-03 11:13:15.083419   \n",
            "1                  DDoS  Success 2024-02-03 20:51:56.083463   \n",
            "2      Zero-Day Exploit  Success 2024-07-19 18:40:05.083472   \n",
            "3         SQL Injection  Failure 2023-12-08 00:54:17.083478   \n",
            "4      Zero-Day Exploit  Failure 2024-07-23 05:38:20.083483   \n",
            "...                 ...      ...                        ...   \n",
            "99995          Phishing  Success 2024-08-09 10:48:51.650684   \n",
            "99996        Ransomware  Failure 2023-12-19 07:13:23.650687   \n",
            "99997  Zero-Day Exploit  Success 2024-07-29 07:53:22.650690   \n",
            "99998              DDoS  Failure 2024-05-30 11:29:11.650692   \n",
            "99999           Malware  Success 2023-12-27 04:46:54.650695   \n",
            "\n",
            "       data_compromised_GB security_tools_used   location  attack_severity  \\\n",
            "0                    15.31            Firewall  Australia                2   \n",
            "1                    65.05  Endpoint Detection     Brazil               10   \n",
            "2                    48.99            Firewall    Germany                7   \n",
            "3                    16.29                 MFA     Russia                3   \n",
            "4                    87.66            Firewall         UK                6   \n",
            "...                    ...                 ...        ...              ...   \n",
            "99995                98.99                 MFA    Germany                8   \n",
            "99996                87.93                 WAF  Australia                4   \n",
            "99997                28.23           Antivirus     Canada               10   \n",
            "99998                92.38                 MFA      India                7   \n",
            "99999                83.92           Antivirus      China                4   \n",
            "\n",
            "            industry  mitigation_method  fecha  hora  \n",
            "0             Energy        Containment   2024    11  \n",
            "1             Retail  Reset Credentials   2024    20  \n",
            "2            Finance         Quarantine   2024    18  \n",
            "3         Healthcare              Patch   2023     0  \n",
            "4            Finance        Containment   2024     5  \n",
            "...              ...                ...    ...   ...  \n",
            "99995         Retail        Containment   2024    10  \n",
            "99996     Healthcare         Quarantine   2023     7  \n",
            "99997         Retail              Patch   2024     7  \n",
            "99998  Manufacturing              Patch   2024    11  \n",
            "99999         Energy           Block IP   2023     4  \n",
            "\n",
            "[100000 rows x 11 columns]\n"
          ]
        }
      ]
    },
    {
      "cell_type": "code",
      "source": [
        "df=df.drop(['timestamp'],axis=1)"
      ],
      "metadata": {
        "id": "lG_G65h2FD9A"
      },
      "execution_count": null,
      "outputs": []
    },
    {
      "cell_type": "code",
      "source": [
        "#crear tabla pivot y chequear los nombres de las features, ideal si hay varios paises y tipos\n",
        "pivot = cb.pivot_table(index='location', columns='attack_type', aggfunc='size', fill_value=0)"
      ],
      "metadata": {
        "id": "uWkHeusZqvXW"
      },
      "execution_count": null,
      "outputs": []
    },
    {
      "cell_type": "code",
      "source": [
        "#Creamos mapa de calor par ver las cantidades por tipo y pais\n",
        "plt.figure(figsize=(12, 6))\n",
        "sns.heatmap(pivot, annot=True, cmap='Blues', fmt='d')\n",
        "plt.title('Mapa de Calor de Ataques por Tipo y País')\n",
        "plt.ylabel('Pais')\n",
        "plt.xlabel('Tipo de Ataque')\n",
        "plt.tight_layout()\n",
        "plt.show()"
      ],
      "metadata": {
        "colab": {
          "base_uri": "https://localhost:8080/",
          "height": 525
        },
        "id": "9rcWigbX2X9v",
        "outputId": "8caa5332-923b-4d36-cba3-f0d9f00ab1dd"
      },
      "execution_count": null,
      "outputs": [
        {
          "output_type": "display_data",
          "data": {
            "text/plain": [
              "<Figure size 1200x600 with 2 Axes>"
            ],
            "image/png": "[encoded data removed]"
          },
          "metadata": {}
        }
      ]
    },
    {
      "cell_type": "markdown",
      "source": [
        "Debido a que las cantidades son parecidas, con el mapa de calor vemos más claramente donde hubo más ataques y de que tipo,\n",
        " USA es el país que más ataques tubo, del tipo brute force attack.\n",
        "\n",
        "Un ataque de fuerza bruta (Brute Force Attack) es un tipo de ataque cibernético en el que un atacante intenta adivinar contraseñas o claves probando sistemáticamente todas las combinaciones posibles hasta encontrar la correcta.\n",
        "\n"
      ],
      "metadata": {
        "id": "7VWNvNjU8BXS"
      }
    },
    {
      "cell_type": "code",
      "source": [
        "sns.boxplot(x='attack_severity', y='industry', data=cb)\n",
        "plt.title('Distribución de Severidad de Ataque por Industria')\n",
        "plt.xlabel('Severidad del Ataque')\n",
        "plt.ylabel('Industria')\n",
        "plt.show()\n",
        "\n"
      ],
      "metadata": {
        "colab": {
          "base_uri": "https://localhost:8080/",
          "height": 472
        },
        "id": "4agzVXLZXzf_",
        "outputId": "b997087d-996e-465f-cc41-addd59196e65"
      },
      "execution_count": null,
      "outputs": [
        {
          "output_type": "display_data",
          "data": {
            "text/plain": [
              "<Figure size 640x480 with 1 Axes>"
            ],
            "image/png": "[encoded data removed]"
          },
          "metadata": {}
        }
      ]
    },
    {
      "cell_type": "markdown",
      "source": [
        "Con estas 2 visualizaciones podemos ver las industrias mas afectadas, que son Healthcare, Finance y Education"
      ],
      "metadata": {
        "id": "2rxDX2ubZSRA"
      }
    },
    {
      "cell_type": "code",
      "source": [
        "horas=df[\"hora\"]\n",
        "horas = pd.to_datetime(horas, format='%H').dt.hour\n",
        "\n",
        "hsfrec = horas.value_counts()\n",
        "hsfrec"
      ],
      "metadata": {
        "colab": {
          "base_uri": "https://localhost:8080/",
          "height": 868
        },
        "id": "XfpwwO1sh0tB",
        "outputId": "45d3817a-7ed6-4a03-a9e8-4090bebbdf3f"
      },
      "execution_count": null,
      "outputs": [
        {
          "output_type": "execute_result",
          "data": {
            "text/plain": [
              "hora\n",
              "13    4261\n",
              "17    4244\n",
              "8     4236\n",
              "9     4234\n",
              "10    4226\n",
              "2     4223\n",
              "1     4215\n",
              "19    4205\n",
              "3     4187\n",
              "6     4182\n",
              "16    4177\n",
              "11    4173\n",
              "15    4172\n",
              "14    4169\n",
              "12    4145\n",
              "5     4144\n",
              "21    4134\n",
              "4     4134\n",
              "18    4119\n",
              "23    4110\n",
              "22    4107\n",
              "20    4087\n",
              "7     4084\n",
              "0     4032\n",
              "Name: count, dtype: int64"
            ],
            "text/html": [
              "<div>\n",
              "<style scoped>\n",
              "    .dataframe tbody tr th:only-of-type {\n",
              "        vertical-align: middle;\n",
              "    }\n",
              "\n",
              "    .dataframe tbody tr th {\n",
              "        vertical-align: top;\n",
              "    }\n",
              "\n",
              "    .dataframe thead th {\n",
              "        text-align: right;\n",
              "    }\n",
              "</style>\n",
              "<table border=\"1\" class=\"dataframe\">\n",
              "  <thead>\n",
              "    <tr style=\"text-align: right;\">\n",
              "      <th></th>\n",
              "      <th>count</th>\n",
              "    </tr>\n",
              "    <tr>\n",
              "      <th>hora</th>\n",
              "      <th></th>\n",
              "    </tr>\n",
              "  </thead>\n",
              "  <tbody>\n",
              "    <tr>\n",
              "      <th>13</th>\n",
              "      <td>4261</td>\n",
              "    </tr>\n",
              "    <tr>\n",
              "      <th>17</th>\n",
              "      <td>4244</td>\n",
              "    </tr>\n",
              "    <tr>\n",
              "      <th>8</th>\n",
              "      <td>4236</td>\n",
              "    </tr>\n",
              "    <tr>\n",
              "      <th>9</th>\n",
              "      <td>4234</td>\n",
              "    </tr>\n",
              "    <tr>\n",
              "      <th>10</th>\n",
              "      <td>4226</td>\n",
              "    </tr>\n",
              "    <tr>\n",
              "      <th>2</th>\n",
              "      <td>4223</td>\n",
              "    </tr>\n",
              "    <tr>\n",
              "      <th>1</th>\n",
              "      <td>4215</td>\n",
              "    </tr>\n",
              "    <tr>\n",
              "      <th>19</th>\n",
              "      <td>4205</td>\n",
              "    </tr>\n",
              "    <tr>\n",
              "      <th>3</th>\n",
              "      <td>4187</td>\n",
              "    </tr>\n",
              "    <tr>\n",
              "      <th>6</th>\n",
              "      <td>4182</td>\n",
              "    </tr>\n",
              "    <tr>\n",
              "      <th>16</th>\n",
              "      <td>4177</td>\n",
              "    </tr>\n",
              "    <tr>\n",
              "      <th>11</th>\n",
              "      <td>4173</td>\n",
              "    </tr>\n",
              "    <tr>\n",
              "      <th>15</th>\n",
              "      <td>4172</td>\n",
              "    </tr>\n",
              "    <tr>\n",
              "      <th>14</th>\n",
              "      <td>4169</td>\n",
              "    </tr>\n",
              "    <tr>\n",
              "      <th>12</th>\n",
              "      <td>4145</td>\n",
              "    </tr>\n",
              "    <tr>\n",
              "      <th>5</th>\n",
              "      <td>4144</td>\n",
              "    </tr>\n",
              "    <tr>\n",
              "      <th>21</th>\n",
              "      <td>4134</td>\n",
              "    </tr>\n",
              "    <tr>\n",
              "      <th>4</th>\n",
              "      <td>4134</td>\n",
              "    </tr>\n",
              "    <tr>\n",
              "      <th>18</th>\n",
              "      <td>4119</td>\n",
              "    </tr>\n",
              "    <tr>\n",
              "      <th>23</th>\n",
              "      <td>4110</td>\n",
              "    </tr>\n",
              "    <tr>\n",
              "      <th>22</th>\n",
              "      <td>4107</td>\n",
              "    </tr>\n",
              "    <tr>\n",
              "      <th>20</th>\n",
              "      <td>4087</td>\n",
              "    </tr>\n",
              "    <tr>\n",
              "      <th>7</th>\n",
              "      <td>4084</td>\n",
              "    </tr>\n",
              "    <tr>\n",
              "      <th>0</th>\n",
              "      <td>4032</td>\n",
              "    </tr>\n",
              "  </tbody>\n",
              "</table>\n",
              "</div><br><label><b>dtype:</b> int64</label>"
            ]
          },
          "metadata": {},
          "execution_count": 52
        }
      ]
    },
    {
      "cell_type": "code",
      "source": [
        "hora_mas_frecuente = hsfrec.idxmax()\n",
        "hora_mas_frecuente\n",
        "print(\"La hora más frecuente es:\", hora_mas_frecuente,':00')\n"
      ],
      "metadata": {
        "colab": {
          "base_uri": "https://localhost:8080/"
        },
        "id": "9zQI3DQ2kawA",
        "outputId": "7cd8f9c5-2334-4fa2-f428-d777a4072f5d"
      },
      "execution_count": null,
      "outputs": [
        {
          "output_type": "stream",
          "name": "stdout",
          "text": [
            "La hora más frecuente es: 13 :00\n"
          ]
        }
      ]
    },
    {
      "cell_type": "code",
      "source": [
        "import pandas as pd\n",
        "import matplotlib.pyplot as plt\n",
        "\n",
        "\n",
        "# Agrupar por país y outcome\n",
        "outcomes = df.groupby(['location', 'outcome']).size().unstack(fill_value=0)\n",
        "\n",
        "# Mostrar tabla\n",
        "print(outcomes)\n"
      ],
      "metadata": {
        "colab": {
          "base_uri": "https://localhost:8080/"
        },
        "id": "a_E1Mt6D-9VT",
        "outputId": "4724382c-349a-476c-d313-d38d923284d7"
      },
      "execution_count": null,
      "outputs": [
        {
          "output_type": "stream",
          "name": "stdout",
          "text": [
            "outcome    Failure  Success\n",
            "location                   \n",
            "Australia     4913     5000\n",
            "Brazil        5185     4948\n",
            "Canada        4962     5087\n",
            "China         4976     5065\n",
            "France        5021     4951\n",
            "Germany       5004     5005\n",
            "India         4953     4926\n",
            "Russia        5029     4954\n",
            "UK            4903     5063\n",
            "USA           5024     5031\n"
          ]
        }
      ]
    },
    {
      "cell_type": "code",
      "source": [
        "# Gráfico de barras apiladas por país\n",
        "outcomes.plot(kind='bar', stacked=True, figsize=(10, 6), colormap='crest')\n",
        "\n",
        "plt.title(\"Resultados de Ataques por País (Outcome)\")\n",
        "plt.xlabel(\"location\")\n",
        "plt.ylabel(\"Cantidad de Ataques\")\n",
        "plt.legend(title=\"Outcome\")\n",
        "plt.xticks(rotation=45)\n",
        "plt.tight_layout()\n",
        "plt.show()\n"
      ],
      "metadata": {
        "colab": {
          "base_uri": "https://localhost:8080/",
          "height": 578
        },
        "id": "59BAK4gt_MaS",
        "outputId": "d6c3318d-b225-47c3-f202-546c7a50582f"
      },
      "execution_count": null,
      "outputs": [
        {
          "output_type": "display_data",
          "data": {
            "text/plain": [
              "<Figure size 1000x600 with 1 Axes>"
            ],
            "image/png": "[encoded data removed]"
          },
          "metadata": {}
        }
      ]
    },
    {
      "cell_type": "markdown",
      "source": [
        "Transformacion de datos"
      ],
      "metadata": {
        "id": "xD9-ieyHfF_X"
      }
    },
    {
      "cell_type": "code",
      "source": [
        "df.columns"
      ],
      "metadata": {
        "colab": {
          "base_uri": "https://localhost:8080/"
        },
        "id": "VcXrLwTsEIHb",
        "outputId": "d8844f77-da55-4bff-89c7-e7c8d2bb6b27"
      },
      "execution_count": null,
      "outputs": [
        {
          "output_type": "execute_result",
          "data": {
            "text/plain": [
              "Index(['attack_type', 'outcome', 'data_compromised_GB', 'security_tools_used',\n",
              "       'location', 'attack_severity', 'industry', 'mitigation_method', 'fecha',\n",
              "       'hora'],\n",
              "      dtype='object')"
            ]
          },
          "metadata": {},
          "execution_count": 56
        }
      ]
    },
    {
      "cell_type": "code",
      "source": [
        "df.head()"
      ],
      "metadata": {
        "colab": {
          "base_uri": "https://localhost:8080/",
          "height": 261
        },
        "id": "CJRPJyOAE57d",
        "outputId": "25383bfb-de47-4f8d-894a-4d494a260a7f"
      },
      "execution_count": null,
      "outputs": [
        {
          "output_type": "execute_result",
          "data": {
            "text/plain": [
              "        attack_type  outcome  data_compromised_GB security_tools_used  \\\n",
              "0          Phishing  Failure                15.31            Firewall   \n",
              "1              DDoS  Success                65.05  Endpoint Detection   \n",
              "2  Zero-Day Exploit  Success                48.99            Firewall   \n",
              "3     SQL Injection  Failure                16.29                 MFA   \n",
              "4  Zero-Day Exploit  Failure                87.66            Firewall   \n",
              "\n",
              "    location  attack_severity    industry  mitigation_method  fecha  hora  \n",
              "0  Australia                2      Energy        Containment   2024    11  \n",
              "1     Brazil               10      Retail  Reset Credentials   2024    20  \n",
              "2    Germany                7     Finance         Quarantine   2024    18  \n",
              "3     Russia                3  Healthcare              Patch   2023     0  \n",
              "4         UK                6     Finance        Containment   2024     5  "
            ],
            "text/html": [
              "\n",
              "  <div id=\"df-49daac17-a6eb-494e-96f3-876f507c47d3\" class=\"colab-df-container\">\n",
              "    <div>\n",
              "<style scoped>\n",
              "    .dataframe tbody tr th:only-of-type {\n",
              "        vertical-align: middle;\n",
              "    }\n",
              "\n",
              "    .dataframe tbody tr th {\n",
              "        vertical-align: top;\n",
              "    }\n",
              "\n",
              "    .dataframe thead th {\n",
              "        text-align: right;\n",
              "    }\n",
              "</style>\n",
              "<table border=\"1\" class=\"dataframe\">\n",
              "  <thead>\n",
              "    <tr style=\"text-align: right;\">\n",
              "      <th></th>\n",
              "      <th>attack_type</th>\n",
              "      <th>outcome</th>\n",
              "      <th>data_compromised_GB</th>\n",
              "      <th>security_tools_used</th>\n",
              "      <th>location</th>\n",
              "      <th>attack_severity</th>\n",
              "      <th>industry</th>\n",
              "      <th>mitigation_method</th>\n",
              "      <th>fecha</th>\n",
              "      <th>hora</th>\n",
              "    </tr>\n",
              "  </thead>\n",
              "  <tbody>\n",
              "    <tr>\n",
              "      <th>0</th>\n",
              "      <td>Phishing</td>\n",
              "      <td>Failure</td>\n",
              "      <td>15.31</td>\n",
              "      <td>Firewall</td>\n",
              "      <td>Australia</td>\n",
              "      <td>2</td>\n",
              "      <td>Energy</td>\n",
              "      <td>Containment</td>\n",
              "      <td>2024</td>\n",
              "      <td>11</td>\n",
              "    </tr>\n",
              "    <tr>\n",
              "      <th>1</th>\n",
              "      <td>DDoS</td>\n",
              "      <td>Success</td>\n",
              "      <td>65.05</td>\n",
              "      <td>Endpoint Detection</td>\n",
              "      <td>Brazil</td>\n",
              "      <td>10</td>\n",
              "      <td>Retail</td>\n",
              "      <td>Reset Credentials</td>\n",
              "      <td>2024</td>\n",
              "      <td>20</td>\n",
              "    </tr>\n",
              "    <tr>\n",
              "      <th>2</th>\n",
              "      <td>Zero-Day Exploit</td>\n",
              "      <td>Success</td>\n",
              "      <td>48.99</td>\n",
              "      <td>Firewall</td>\n",
              "      <td>Germany</td>\n",
              "      <td>7</td>\n",
              "      <td>Finance</td>\n",
              "      <td>Quarantine</td>\n",
              "      <td>2024</td>\n",
              "      <td>18</td>\n",
              "    </tr>\n",
              "    <tr>\n",
              "      <th>3</th>\n",
              "      <td>SQL Injection</td>\n",
              "      <td>Failure</td>\n",
              "      <td>16.29</td>\n",
              "      <td>MFA</td>\n",
              "      <td>Russia</td>\n",
              "      <td>3</td>\n",
              "      <td>Healthcare</td>\n",
              "      <td>Patch</td>\n",
              "      <td>2023</td>\n",
              "      <td>0</td>\n",
              "    </tr>\n",
              "    <tr>\n",
              "      <th>4</th>\n",
              "      <td>Zero-Day Exploit</td>\n",
              "      <td>Failure</td>\n",
              "      <td>87.66</td>\n",
              "      <td>Firewall</td>\n",
              "      <td>UK</td>\n",
              "      <td>6</td>\n",
              "      <td>Finance</td>\n",
              "      <td>Containment</td>\n",
              "      <td>2024</td>\n",
              "      <td>5</td>\n",
              "    </tr>\n",
              "  </tbody>\n",
              "</table>\n",
              "</div>\n",
              "    <div class=\"colab-df-buttons\">\n",
              "\n",
              "  <div class=\"colab-df-container\">\n",
              "    <button class=\"colab-df-convert\" onclick=\"convertToInteractive('df-49daac17-a6eb-494e-96f3-876f507c47d3')\"\n",
              "            title=\"Convert this dataframe to an interactive table.\"\n",
              "            style=\"display:none;\">\n",
              "\n",
              "  <svg xmlns=\"http://www.w3.org/2000/svg\" height=\"24px\" viewBox=\"0 -960 960 960\">\n",
              "    <path d=\"M120-120v-720h720v720H120Zm60-500h600v-160H180v160Zm220 220h160v-160H400v160Zm0 220h160v-160H400v160ZM180-400h160v-160H180v160Zm440 0h160v-160H620v160ZM180-180h160v-160H180v160Zm440 0h160v-160H620v160Z\"/>\n",
              "  </svg>\n",
              "    </button>\n",
              "\n",
              "  <style>\n",
              "    .colab-df-container {\n",
              "      display:flex;\n",
              "      gap: 12px;\n",
              "    }\n",
              "\n",
              "    .colab-df-convert {\n",
              "      background-color: #E8F0FE;\n",
              "      border: none;\n",
              "      border-radius: 50%;\n",
              "      cursor: pointer;\n",
              "      display: none;\n",
              "      fill: #1967D2;\n",
              "      height: 32px;\n",
              "      padding: 0 0 0 0;\n",
              "      width: 32px;\n",
              "    }\n",
              "\n",
              "    .colab-df-convert:hover {\n",
              "      background-color: #E2EBFA;\n",
              "      box-shadow: 0px 1px 2px rgba(60, 64, 67, 0.3), 0px 1px 3px 1px rgba(60, 64, 67, 0.15);\n",
              "      fill: #174EA6;\n",
              "    }\n",
              "\n",
              "    .colab-df-buttons div {\n",
              "      margin-bottom: 4px;\n",
              "    }\n",
              "\n",
              "    [theme=dark] .colab-df-convert {\n",
              "      background-color: #3B4455;\n",
              "      fill: #D2E3FC;\n",
              "    }\n",
              "\n",
              "    [theme=dark] .colab-df-convert:hover {\n",
              "      background-color: #434B5C;\n",
              "      box-shadow: 0px 1px 3px 1px rgba(0, 0, 0, 0.15);\n",
              "      filter: drop-shadow(0px 1px 2px rgba(0, 0, 0, 0.3));\n",
              "      fill: #FFFFFF;\n",
              "    }\n",
              "  </style>\n",
              "\n",
              "    <script>\n",
              "      const buttonEl =\n",
              "        document.querySelector('#df-49daac17-a6eb-494e-96f3-876f507c47d3 button.colab-df-convert');\n",
              "      buttonEl.style.display =\n",
              "        google.colab.kernel.accessAllowed ? 'block' : 'none';\n",
              "\n",
              "      async function convertToInteractive(key) {\n",
              "        const element = document.querySelector('#df-49daac17-a6eb-494e-96f3-876f507c47d3');\n",
              "        const dataTable =\n",
              "          await google.colab.kernel.invokeFunction('convertToInteractive',\n",
              "                                                    [key], {});\n",
              "        if (!dataTable) return;\n",
              "\n",
              "        const docLinkHtml = 'Like what you see? Visit the ' +\n",
              "          '<a target=\"_blank\" href=https://colab.research.google.com/notebooks/data_table.ipynb>data table notebook</a>'\n",
              "          + ' to learn more about interactive tables.';\n",
              "        element.innerHTML = '';\n",
              "        dataTable['output_type'] = 'display_data';\n",
              "        await google.colab.output.renderOutput(dataTable, element);\n",
              "        const docLink = document.createElement('div');\n",
              "        docLink.innerHTML = docLinkHtml;\n",
              "        element.appendChild(docLink);\n",
              "      }\n",
              "    </script>\n",
              "  </div>\n",
              "\n",
              "\n",
              "    <div id=\"df-6adc3e7d-4809-4c9b-898c-192ca9be7c94\">\n",
              "      <button class=\"colab-df-quickchart\" onclick=\"quickchart('df-6adc3e7d-4809-4c9b-898c-192ca9be7c94')\"\n",
              "                title=\"Suggest charts\"\n",
              "                style=\"display:none;\">\n",
              "\n",
              "<svg xmlns=\"http://www.w3.org/2000/svg\" height=\"24px\"viewBox=\"0 0 24 24\"\n",
              "     width=\"24px\">\n",
              "    <g>\n",
              "        <path d=\"M19 3H5c-1.1 0-2 .9-2 2v14c0 1.1.9 2 2 2h14c1.1 0 2-.9 2-2V5c0-1.1-.9-2-2-2zM9 17H7v-7h2v7zm4 0h-2V7h2v10zm4 0h-2v-4h2v4z\"/>\n",
              "    </g>\n",
              "</svg>\n",
              "      </button>\n",
              "\n",
              "<style>\n",
              "  .colab-df-quickchart {\n",
              "      --bg-color: #E8F0FE;\n",
              "      --fill-color: #1967D2;\n",
              "      --hover-bg-color: #E2EBFA;\n",
              "      --hover-fill-color: #174EA6;\n",
              "      --disabled-fill-color: #AAA;\n",
              "      --disabled-bg-color: #DDD;\n",
              "  }\n",
              "\n",
              "  [theme=dark] .colab-df-quickchart {\n",
              "      --bg-color: #3B4455;\n",
              "      --fill-color: #D2E3FC;\n",
              "      --hover-bg-color: #434B5C;\n",
              "      --hover-fill-color: #FFFFFF;\n",
              "      --disabled-bg-color: #3B4455;\n",
              "      --disabled-fill-color: #666;\n",
              "  }\n",
              "\n",
              "  .colab-df-quickchart {\n",
              "    background-color: var(--bg-color);\n",
              "    border: none;\n",
              "    border-radius: 50%;\n",
              "    cursor: pointer;\n",
              "    display: none;\n",
              "    fill: var(--fill-color);\n",
              "    height: 32px;\n",
              "    padding: 0;\n",
              "    width: 32px;\n",
              "  }\n",
              "\n",
              "  .colab-df-quickchart:hover {\n",
              "    background-color: var(--hover-bg-color);\n",
              "    box-shadow: 0 1px 2px rgba(60, 64, 67, 0.3), 0 1px 3px 1px rgba(60, 64, 67, 0.15);\n",
              "    fill: var(--button-hover-fill-color);\n",
              "  }\n",
              "\n",
              "  .colab-df-quickchart-complete:disabled,\n",
              "  .colab-df-quickchart-complete:disabled:hover {\n",
              "    background-color: var(--disabled-bg-color);\n",
              "    fill: var(--disabled-fill-color);\n",
              "    box-shadow: none;\n",
              "  }\n",
              "\n",
              "  .colab-df-spinner {\n",
              "    border: 2px solid var(--fill-color);\n",
              "    border-color: transparent;\n",
              "    border-bottom-color: var(--fill-color);\n",
              "    animation:\n",
              "      spin 1s steps(1) infinite;\n",
              "  }\n",
              "\n",
              "  @keyframes spin {\n",
              "    0% {\n",
              "      border-color: transparent;\n",
              "      border-bottom-color: var(--fill-color);\n",
              "      border-left-color: var(--fill-color);\n",
              "    }\n",
              "    20% {\n",
              "      border-color: transparent;\n",
              "      border-left-color: var(--fill-color);\n",
              "      border-top-color: var(--fill-color);\n",
              "    }\n",
              "    30% {\n",
              "      border-color: transparent;\n",
              "      border-left-color: var(--fill-color);\n",
              "      border-top-color: var(--fill-color);\n",
              "      border-right-color: var(--fill-color);\n",
              "    }\n",
              "    40% {\n",
              "      border-color: transparent;\n",
              "      border-right-color: var(--fill-color);\n",
              "      border-top-color: var(--fill-color);\n",
              "    }\n",
              "    60% {\n",
              "      border-color: transparent;\n",
              "      border-right-color: var(--fill-color);\n",
              "    }\n",
              "    80% {\n",
              "      border-color: transparent;\n",
              "      border-right-color: var(--fill-color);\n",
              "      border-bottom-color: var(--fill-color);\n",
              "    }\n",
              "    90% {\n",
              "      border-color: transparent;\n",
              "      border-bottom-color: var(--fill-color);\n",
              "    }\n",
              "  }\n",
              "</style>\n",
              "\n",
              "      <script>\n",
              "        async function quickchart(key) {\n",
              "          const quickchartButtonEl =\n",
              "            document.querySelector('#' + key + ' button');\n",
              "          quickchartButtonEl.disabled = true;  // To prevent multiple clicks.\n",
              "          quickchartButtonEl.classList.add('colab-df-spinner');\n",
              "          try {\n",
              "            const charts = await google.colab.kernel.invokeFunction(\n",
              "                'suggestCharts', [key], {});\n",
              "          } catch (error) {\n",
              "            console.error('Error during call to suggestCharts:', error);\n",
              "          }\n",
              "          quickchartButtonEl.classList.remove('colab-df-spinner');\n",
              "          quickchartButtonEl.classList.add('colab-df-quickchart-complete');\n",
              "        }\n",
              "        (() => {\n",
              "          let quickchartButtonEl =\n",
              "            document.querySelector('#df-6adc3e7d-4809-4c9b-898c-192ca9be7c94 button');\n",
              "          quickchartButtonEl.style.display =\n",
              "            google.colab.kernel.accessAllowed ? 'block' : 'none';\n",
              "        })();\n",
              "      </script>\n",
              "    </div>\n",
              "\n",
              "    </div>\n",
              "  </div>\n"
            ],
            "application/vnd.google.colaboratory.intrinsic+json": {
              "type": "dataframe",
              "variable_name": "df",
              "summary": "{\n  \"name\": \"df\",\n  \"rows\": 100000,\n  \"fields\": [\n    {\n      \"column\": \"attack_type\",\n      \"properties\": {\n        \"dtype\": \"category\",\n        \"num_unique_values\": 8,\n        \"samples\": [\n          \"DDoS\",\n          \"Ransomware\",\n          \"Phishing\"\n        ],\n        \"semantic_type\": \"\",\n        \"description\": \"\"\n      }\n    },\n    {\n      \"column\": \"outcome\",\n      \"properties\": {\n        \"dtype\": \"category\",\n        \"num_unique_values\": 2,\n        \"samples\": [\n          \"Success\",\n          \"Failure\"\n        ],\n        \"semantic_type\": \"\",\n        \"description\": \"\"\n      }\n    },\n    {\n      \"column\": \"data_compromised_GB\",\n      \"properties\": {\n        \"dtype\": \"number\",\n        \"std\": 28.829755825689677,\n        \"min\": 0.0,\n        \"max\": 100.0,\n        \"num_unique_values\": 10001,\n        \"samples\": [\n          11.36,\n          58.29\n        ],\n        \"semantic_type\": \"\",\n        \"description\": \"\"\n      }\n    },\n    {\n      \"column\": \"security_tools_used\",\n      \"properties\": {\n        \"dtype\": \"category\",\n        \"num_unique_values\": 8,\n        \"samples\": [\n          \"Endpoint Detection\",\n          \"WAF\"\n        ],\n        \"semantic_type\": \"\",\n        \"description\": \"\"\n      }\n    },\n    {\n      \"column\": \"location\",\n      \"properties\": {\n        \"dtype\": \"category\",\n        \"num_unique_values\": 10,\n        \"samples\": [\n          \"China\",\n          \"Brazil\"\n        ],\n        \"semantic_type\": \"\",\n        \"description\": \"\"\n      }\n    },\n    {\n      \"column\": \"attack_severity\",\n      \"properties\": {\n        \"dtype\": \"number\",\n        \"std\": 2,\n        \"min\": 1,\n        \"max\": 10,\n        \"num_unique_values\": 10,\n        \"samples\": [\n          8,\n          10\n        ],\n        \"semantic_type\": \"\",\n        \"description\": \"\"\n      }\n    },\n    {\n      \"column\": \"industry\",\n      \"properties\": {\n        \"dtype\": \"category\",\n        \"num_unique_values\": 8,\n        \"samples\": [\n          \"Retail\",\n          \"Education\"\n        ],\n        \"semantic_type\": \"\",\n        \"description\": \"\"\n      }\n    },\n    {\n      \"column\": \"mitigation_method\",\n      \"properties\": {\n        \"dtype\": \"category\",\n        \"num_unique_values\": 5,\n        \"samples\": [\n          \"Reset Credentials\",\n          \"Block IP\"\n        ],\n        \"semantic_type\": \"\",\n        \"description\": \"\"\n      }\n    },\n    {\n      \"column\": \"fecha\",\n      \"properties\": {\n        \"dtype\": \"int32\",\n        \"num_unique_values\": 2,\n        \"samples\": [\n          2023,\n          2024\n        ],\n        \"semantic_type\": \"\",\n        \"description\": \"\"\n      }\n    },\n    {\n      \"column\": \"hora\",\n      \"properties\": {\n        \"dtype\": \"int32\",\n        \"num_unique_values\": 24,\n        \"samples\": [\n          6,\n          22\n        ],\n        \"semantic_type\": \"\",\n        \"description\": \"\"\n      }\n    }\n  ]\n}"
            }
          },
          "metadata": {},
          "execution_count": 57
        }
      ]
    },
    {
      "cell_type": "code",
      "source": [
        "import sklearn\n",
        "from sklearn.preprocessing import LabelEncoder"
      ],
      "metadata": {
        "id": "PSPjw8lzRy-x"
      },
      "execution_count": null,
      "outputs": []
    },
    {
      "cell_type": "code",
      "source": [
        "severitylabelencoder=LabelEncoder()\n",
        "df['severity']=severitylabelencoder.fit_transform(cb['attack_severity'])"
      ],
      "metadata": {
        "id": "qucEFi94IVZd"
      },
      "execution_count": null,
      "outputs": []
    },
    {
      "cell_type": "code",
      "source": [
        "severitylabelencoder=LabelEncoder()\n",
        "df['GB_data']=severitylabelencoder.fit_transform(cb['data_compromised_GB'])"
      ],
      "metadata": {
        "id": "mnKrJrb8-OVd"
      },
      "execution_count": null,
      "outputs": []
    },
    {
      "cell_type": "code",
      "source": [
        "import pandas as pd\n",
        "from sklearn.model_selection import train_test_split\n",
        "from sklearn.preprocessing import OneHotEncoder, StandardScaler\n",
        "from sklearn.svm import SVC\n",
        "from sklearn.pipeline import make_pipeline\n",
        "from sklearn.metrics import classification_report\n"
      ],
      "metadata": {
        "id": "rjocPN9VREj0"
      },
      "execution_count": null,
      "outputs": []
    },
    {
      "cell_type": "markdown",
      "source": [
        "Nuestro objetivo será ver si tuvo éxito o no cada ataque TERMINAR"
      ],
      "metadata": {
        "id": "9qIE0fchCzuw"
      }
    },
    {
      "cell_type": "code",
      "source": [
        "x=df[['attack_type','security_tools_used', 'location','attack_severity', 'industry', 'mitigation_method', 'fecha', 'hora']] #variables independientes\n",
        "y=df[\"outcome\"]       #variable objetivo\n",
        "#Separamos las variables\n"
      ],
      "metadata": {
        "id": "T3BYUBvLL_mV"
      },
      "execution_count": null,
      "outputs": []
    },
    {
      "cell_type": "markdown",
      "source": [
        "Transformamos las variables categóricas"
      ],
      "metadata": {
        "id": "ByFU9UknURTW"
      }
    },
    {
      "cell_type": "markdown",
      "source": [
        "Al tranformar las variables con onehotencoder se soluciono el error de RAM, que antes lo habiamos hecho con get dummies"
      ],
      "metadata": {
        "id": "Fo_bW2sl7grX"
      }
    },
    {
      "cell_type": "markdown",
      "source": [],
      "metadata": {
        "id": "jZVeq80bf_eN"
      }
    },
    {
      "cell_type": "code",
      "source": [
        "from sklearn.preprocessing import OneHotEncoder\n",
        "columnas_categoricas = ['attack_type', 'security_tools_used', 'location', 'industry','mitigation_method']\n",
        "onehot_encoder = OneHotEncoder(handle_unknown='ignore', sparse_output=False)\n",
        "#Transformamos la información categorica\n",
        "x_encoded_cat = onehot_encoder.fit_transform(x[columnas_categoricas])\n",
        "#Pasamos de vuelta a Dataframe y combinamos los features numericos con los categoricos\n",
        "x_encoded_cat_df = pd.DataFrame(x_encoded_cat, columns=onehot_encoder.get_feature_names_out(columnas_categoricas))\n",
        "x_encoded = pd.concat([x_encoded_cat_df, x[['attack_severity', 'fecha', 'hora']].reset_index(drop=True)], axis=1)\n",
        "\n",
        "print(x_encoded.head())"
      ],
      "metadata": {
        "id": "WunTWi0uMMx9",
        "colab": {
          "base_uri": "https://localhost:8080/"
        },
        "outputId": "31d9ce6f-7b4a-4e4b-e4ff-b74ef8312590"
      },
      "execution_count": null,
      "outputs": [
        {
          "output_type": "stream",
          "name": "stdout",
          "text": [
            "   attack_type_Brute Force  attack_type_Cross-Site Scripting  \\\n",
            "0                      0.0                               0.0   \n",
            "1                      0.0                               0.0   \n",
            "2                      0.0                               0.0   \n",
            "3                      0.0                               0.0   \n",
            "4                      0.0                               0.0   \n",
            "\n",
            "   attack_type_DDoS  attack_type_Malware  attack_type_Phishing  \\\n",
            "0               0.0                  0.0                   1.0   \n",
            "1               1.0                  0.0                   0.0   \n",
            "2               0.0                  0.0                   0.0   \n",
            "3               0.0                  0.0                   0.0   \n",
            "4               0.0                  0.0                   0.0   \n",
            "\n",
            "   attack_type_Ransomware  attack_type_SQL Injection  \\\n",
            "0                     0.0                        0.0   \n",
            "1                     0.0                        0.0   \n",
            "2                     0.0                        0.0   \n",
            "3                     0.0                        1.0   \n",
            "4                     0.0                        0.0   \n",
            "\n",
            "   attack_type_Zero-Day Exploit  security_tools_used_Antivirus  \\\n",
            "0                           0.0                            0.0   \n",
            "1                           0.0                            0.0   \n",
            "2                           1.0                            0.0   \n",
            "3                           0.0                            0.0   \n",
            "4                           1.0                            0.0   \n",
            "\n",
            "   security_tools_used_Endpoint Detection  ...  industry_Retail  \\\n",
            "0                                     0.0  ...              0.0   \n",
            "1                                     1.0  ...              1.0   \n",
            "2                                     0.0  ...              0.0   \n",
            "3                                     0.0  ...              0.0   \n",
            "4                                     0.0  ...              0.0   \n",
            "\n",
            "   industry_Technology  mitigation_method_Block IP  \\\n",
            "0                  0.0                         0.0   \n",
            "1                  0.0                         0.0   \n",
            "2                  0.0                         0.0   \n",
            "3                  0.0                         0.0   \n",
            "4                  0.0                         0.0   \n",
            "\n",
            "   mitigation_method_Containment  mitigation_method_Patch  \\\n",
            "0                            1.0                      0.0   \n",
            "1                            0.0                      0.0   \n",
            "2                            0.0                      0.0   \n",
            "3                            0.0                      1.0   \n",
            "4                            1.0                      0.0   \n",
            "\n",
            "   mitigation_method_Quarantine  mitigation_method_Reset Credentials  \\\n",
            "0                           0.0                                  0.0   \n",
            "1                           0.0                                  1.0   \n",
            "2                           1.0                                  0.0   \n",
            "3                           0.0                                  0.0   \n",
            "4                           0.0                                  0.0   \n",
            "\n",
            "   attack_severity  fecha  hora  \n",
            "0                2   2024    11  \n",
            "1               10   2024    20  \n",
            "2                7   2024    18  \n",
            "3                3   2023     0  \n",
            "4                6   2024     5  \n",
            "\n",
            "[5 rows x 42 columns]\n"
          ]
        }
      ]
    },
    {
      "cell_type": "markdown",
      "source": [],
      "metadata": {
        "id": "px-Uf-8gBB_K"
      }
    },
    {
      "cell_type": "markdown",
      "source": [
        "En este caso usaremos SVM porque tenemos un dataset de pocas dimensiones y con márgen claro entre clases, para lo cual consideramos la mejor opción.\n",
        "\n",
        "\n"
      ],
      "metadata": {
        "id": "mDoikOPP_8KA"
      }
    },
    {
      "cell_type": "markdown",
      "source": [
        "Usamos StandardScaler porque SVM es sensible a la escala.\n",
        "\n",
        "kernel='rbf' permite capturar relaciones no lineales (muy útil en ciberseguridad).\n",
        "\n",
        "Podés ajustar los hiperparámetros C y gamma para mejorar el rendimiento (GridSearchCV).\n",
        "\n"
      ],
      "metadata": {
        "id": "jGAu7iYGf9zr"
      }
    },
    {
      "cell_type": "code",
      "source": [
        "model = make_pipeline(StandardScaler(), SVC(kernel='rbf', C=1, gamma='scale'))"
      ],
      "metadata": {
        "id": "ksNjw_90N_ih"
      },
      "execution_count": null,
      "outputs": []
    },
    {
      "cell_type": "code",
      "source": [
        "from sklearn.model_selection import train_test_split\n",
        "x_train, x_test, y_train, y_test = train_test_split(x_encoded, y, test_size=0.2, random_state=42)"
      ],
      "metadata": {
        "id": "fLKLrhUjtir-"
      },
      "execution_count": null,
      "outputs": []
    },
    {
      "cell_type": "code",
      "source": [
        "model.fit(x_train, y_train)"
      ],
      "metadata": {
        "id": "pILr9jQuOKAr"
      },
      "execution_count": null,
      "outputs": []
    },
    {
      "cell_type": "markdown",
      "source": [
        "Usamos SVM\n"
      ],
      "metadata": {
        "id": "kFl7YJ8m1wQ2"
      }
    },
    {
      "cell_type": "code",
      "source": [
        "x_train.shape"
      ],
      "metadata": {
        "id": "Y60pSGGFxYqE",
        "colab": {
          "base_uri": "https://localhost:8080/"
        },
        "outputId": "5d8e58e7-313a-4667-9fd7-0d66b7f38513"
      },
      "execution_count": null,
      "outputs": [
        {
          "output_type": "execute_result",
          "data": {
            "text/plain": [
              "(80000, 42)"
            ]
          },
          "metadata": {},
          "execution_count": 33
        }
      ]
    },
    {
      "cell_type": "code",
      "source": [
        "x_test.shape"
      ],
      "metadata": {
        "id": "HMBxuUi9xekC",
        "colab": {
          "base_uri": "https://localhost:8080/"
        },
        "outputId": "a7e7f6f5-1273-478b-dae9-ecdb23080322"
      },
      "execution_count": null,
      "outputs": [
        {
          "output_type": "execute_result",
          "data": {
            "text/plain": [
              "(20000, 42)"
            ]
          },
          "metadata": {},
          "execution_count": 34
        }
      ]
    },
    {
      "cell_type": "code",
      "source": [
        "y_pred = model.predict(x_test)\n",
        "print(classification_report(y_test, y_pred))"
      ],
      "metadata": {
        "id": "SSD4ehBnymui",
        "colab": {
          "base_uri": "https://localhost:8080/"
        },
        "outputId": "38618d84-bcfa-475f-fb2c-d75f17dc32b6"
      },
      "execution_count": null,
      "outputs": [
        {
          "output_type": "stream",
          "name": "stdout",
          "text": [
            "              precision    recall  f1-score   support\n",
            "\n",
            "     Failure       0.50      0.49      0.49      9973\n",
            "     Success       0.50      0.50      0.50     10027\n",
            "\n",
            "    accuracy                           0.50     20000\n",
            "   macro avg       0.50      0.50      0.50     20000\n",
            "weighted avg       0.50      0.50      0.50     20000\n",
            "\n"
          ]
        }
      ]
    },
    {
      "cell_type": "markdown",
      "source": [
        "Hicimos un analisis mediante el cual llegamos a la conlusión de que el dataset con el que trabajamos ya esta previamente limpio.\n",
        "Por eso consideramos que la prediccion hecha fue un tanto errónea."
      ],
      "metadata": {
        "id": "s7SBgVNB_GBE"
      }
    },
    {
      "cell_type": "code",
      "source": [],
      "metadata": {
        "id": "Pk5b3Kx6_20P"
      },
      "execution_count": null,
      "outputs": []
    }
  ]
}